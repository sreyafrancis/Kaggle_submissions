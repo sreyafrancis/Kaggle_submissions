{
 "cells": [
  {
   "cell_type": "markdown",
   "metadata": {},
   "source": [
    "# Data import"
   ]
  },
  {
   "cell_type": "code",
   "execution_count": 1,
   "metadata": {},
   "outputs": [
    {
     "name": "stderr",
     "output_type": "stream",
     "text": [
      "/home/sreya/.local/lib/python3.5/site-packages/sklearn/cross_validation.py:44: DeprecationWarning: This module was deprecated in version 0.18 in favor of the model_selection module into which all the refactored classes and functions are moved. Also note that the interface of the new CV iterators are different from that of this module. This module will be removed in 0.20.\n",
      "  \"This module will be removed in 0.20.\", DeprecationWarning)\n"
     ]
    }
   ],
   "source": [
    "import numpy as np\n",
    "import pandas as pd \n",
    "from matplotlib import pyplot as plt\n",
    "import matplotlib\n",
    "%matplotlib inline\n",
    "import seaborn as sns\n",
    "from collections import Counter\n",
    "from sklearn.metrics import mean_squared_error\n",
    "from pandas import concat, Series, DataFrame\n",
    "\n",
    "# machine learning\n",
    "from sklearn.preprocessing import scale\n",
    "from sklearn import metrics\n",
    "from sklearn.cross_validation import cross_val_score, train_test_split\n",
    "from sklearn.linear_model import LogisticRegression\n",
    "from sklearn.svm import SVC, LinearSVC\n",
    "from sklearn.ensemble import RandomForestClassifier\n",
    "from sklearn.neighbors import KNeighborsClassifier\n",
    "from sklearn.naive_bayes import GaussianNB\n",
    "\n",
    "pd.set_option('display.max_columns', 100)"
   ]
  },
  {
   "cell_type": "code",
   "execution_count": 3,
   "metadata": {},
   "outputs": [],
   "source": [
    "# import in the bird strikes data set\n",
    "#bird = pd.read_csv(\"../Desktop/Bird Strikes Test.csv\", low_memory=False, thousands=',')\n",
    "bird = pd.read_csv(\"Bird Strikes Test.csv\", low_memory=False, thousands=',')\n",
    "\n",
    "# only drop rows that are all NA:\n",
    "bird = bird.dropna(how='all')\n"
   ]
  },
  {
   "cell_type": "code",
   "execution_count": 8,
   "metadata": {},
   "outputs": [
    {
     "name": "stdout",
     "output_type": "stream",
     "text": [
      "/home/sreya/Desktop/birdstrike_analysis\n"
     ]
    }
   ],
   "source": [
    "import os\n",
    "cwd = os.getcwd()\n",
    "print (cwd)"
   ]
  },
  {
   "cell_type": "code",
   "execution_count": 9,
   "metadata": {},
   "outputs": [
    {
     "data": {
      "text/html": [
       "<div>\n",
       "<style>\n",
       "    .dataframe thead tr:only-child th {\n",
       "        text-align: right;\n",
       "    }\n",
       "\n",
       "    .dataframe thead th {\n",
       "        text-align: left;\n",
       "    }\n",
       "\n",
       "    .dataframe tbody tr th {\n",
       "        vertical-align: top;\n",
       "    }\n",
       "</style>\n",
       "<table border=\"1\" class=\"dataframe\">\n",
       "  <thead>\n",
       "    <tr style=\"text-align: right;\">\n",
       "      <th></th>\n",
       "      <th>Airport: Name</th>\n",
       "      <th>Altitude bin</th>\n",
       "      <th>Aircraft: Make/Model</th>\n",
       "      <th>Effect: Impact to flight</th>\n",
       "      <th>FlightDate</th>\n",
       "      <th>Record ID</th>\n",
       "      <th>Effect: Indicated Damage</th>\n",
       "      <th>Aircraft: Number of engines?</th>\n",
       "      <th>Aircraft: Airline/Operator</th>\n",
       "      <th>Origin State</th>\n",
       "      <th>When: Phase of flight</th>\n",
       "      <th>Wildlife: Size</th>\n",
       "      <th>Wildlife: Species</th>\n",
       "      <th>When: Time (HHMM)</th>\n",
       "      <th>When: Time of day</th>\n",
       "      <th>Pilot warned of birds or wildlife?</th>\n",
       "      <th>Cost: Aircraft time out of service (hours)</th>\n",
       "      <th>Cost: Other (inflation adj)</th>\n",
       "      <th>Cost: Repair (inflation adj)</th>\n",
       "      <th>Cost: Total $</th>\n",
       "      <th>Miles from airport</th>\n",
       "      <th>Feet above ground</th>\n",
       "      <th>Speed (IAS) in knots</th>\n",
       "    </tr>\n",
       "  </thead>\n",
       "  <tbody>\n",
       "    <tr>\n",
       "      <th>0</th>\n",
       "      <td>DETROIT METRO WAYNE COUNTY ARPT</td>\n",
       "      <td>&lt; 1000 ft</td>\n",
       "      <td>A-319</td>\n",
       "      <td>NaN</td>\n",
       "      <td>1/1/2005 0:00</td>\n",
       "      <td>227413</td>\n",
       "      <td>No damage</td>\n",
       "      <td>2</td>\n",
       "      <td>NORTHWEST AIRLINES</td>\n",
       "      <td>Michigan</td>\n",
       "      <td>Climb</td>\n",
       "      <td>Medium</td>\n",
       "      <td>Unknown bird - medium</td>\n",
       "      <td>NaN</td>\n",
       "      <td>NaN</td>\n",
       "      <td>NaN</td>\n",
       "      <td>NaN</td>\n",
       "      <td>0</td>\n",
       "      <td>0</td>\n",
       "      <td>0</td>\n",
       "      <td>NaN</td>\n",
       "      <td>400.0</td>\n",
       "      <td>NaN</td>\n",
       "    </tr>\n",
       "    <tr>\n",
       "      <th>1</th>\n",
       "      <td>DANE COUNTY REGIONAL ARPT-TRUAX FLD</td>\n",
       "      <td>&lt; 1000 ft</td>\n",
       "      <td>A-320</td>\n",
       "      <td>NaN</td>\n",
       "      <td>1/1/2005 0:00</td>\n",
       "      <td>226578</td>\n",
       "      <td>No damage</td>\n",
       "      <td>2</td>\n",
       "      <td>NORTHWEST AIRLINES</td>\n",
       "      <td>Wisconsin</td>\n",
       "      <td>Take-off run</td>\n",
       "      <td>Medium</td>\n",
       "      <td>Unknown bird - medium</td>\n",
       "      <td>NaN</td>\n",
       "      <td>NaN</td>\n",
       "      <td>NaN</td>\n",
       "      <td>NaN</td>\n",
       "      <td>0</td>\n",
       "      <td>0</td>\n",
       "      <td>0</td>\n",
       "      <td>0.0</td>\n",
       "      <td>0.0</td>\n",
       "      <td>NaN</td>\n",
       "    </tr>\n",
       "    <tr>\n",
       "      <th>2</th>\n",
       "      <td>HOGUE ARPT</td>\n",
       "      <td>&lt; 1000 ft</td>\n",
       "      <td>PA-46 MALIBU</td>\n",
       "      <td>NaN</td>\n",
       "      <td>1/1/2005 0:00</td>\n",
       "      <td>268383</td>\n",
       "      <td>Caused damage</td>\n",
       "      <td>1</td>\n",
       "      <td>PRIVATELY OWNED</td>\n",
       "      <td>Tennessee</td>\n",
       "      <td>Landing Roll</td>\n",
       "      <td>Large</td>\n",
       "      <td>White-tailed deer</td>\n",
       "      <td>NaN</td>\n",
       "      <td>Day</td>\n",
       "      <td>NaN</td>\n",
       "      <td>NaN</td>\n",
       "      <td>0</td>\n",
       "      <td>0</td>\n",
       "      <td>0</td>\n",
       "      <td>0.0</td>\n",
       "      <td>0.0</td>\n",
       "      <td>20.0</td>\n",
       "    </tr>\n",
       "    <tr>\n",
       "      <th>3</th>\n",
       "      <td>SACRAMENTO INTL</td>\n",
       "      <td>&lt; 1000 ft</td>\n",
       "      <td>B-737-300</td>\n",
       "      <td>None</td>\n",
       "      <td>1/1/2005 0:00</td>\n",
       "      <td>229514</td>\n",
       "      <td>Caused damage</td>\n",
       "      <td>2</td>\n",
       "      <td>SOUTHWEST AIRLINES</td>\n",
       "      <td>California</td>\n",
       "      <td>Approach</td>\n",
       "      <td>Large</td>\n",
       "      <td>Greater white-fronted goose</td>\n",
       "      <td>2140.0</td>\n",
       "      <td>Night</td>\n",
       "      <td>Y</td>\n",
       "      <td>NaN</td>\n",
       "      <td>0</td>\n",
       "      <td>117135</td>\n",
       "      <td>117135</td>\n",
       "      <td>NaN</td>\n",
       "      <td>500.0</td>\n",
       "      <td>142.0</td>\n",
       "    </tr>\n",
       "    <tr>\n",
       "      <th>4</th>\n",
       "      <td>GUARULHOS INTL</td>\n",
       "      <td>&lt; 1000 ft</td>\n",
       "      <td>B-767-300</td>\n",
       "      <td>NaN</td>\n",
       "      <td>1/1/2005 0:00</td>\n",
       "      <td>225661</td>\n",
       "      <td>No damage</td>\n",
       "      <td>2</td>\n",
       "      <td>UNITED AIRLINES</td>\n",
       "      <td>NaN</td>\n",
       "      <td>Landing Roll</td>\n",
       "      <td>Medium</td>\n",
       "      <td>Unknown bird - medium</td>\n",
       "      <td>NaN</td>\n",
       "      <td>NaN</td>\n",
       "      <td>NaN</td>\n",
       "      <td>NaN</td>\n",
       "      <td>0</td>\n",
       "      <td>0</td>\n",
       "      <td>0</td>\n",
       "      <td>0.0</td>\n",
       "      <td>0.0</td>\n",
       "      <td>NaN</td>\n",
       "    </tr>\n",
       "  </tbody>\n",
       "</table>\n",
       "</div>"
      ],
      "text/plain": [
       "                         Airport: Name Altitude bin Aircraft: Make/Model  \\\n",
       "0      DETROIT METRO WAYNE COUNTY ARPT    < 1000 ft                A-319   \n",
       "1  DANE COUNTY REGIONAL ARPT-TRUAX FLD    < 1000 ft                A-320   \n",
       "2                           HOGUE ARPT    < 1000 ft         PA-46 MALIBU   \n",
       "3                      SACRAMENTO INTL    < 1000 ft            B-737-300   \n",
       "4                       GUARULHOS INTL    < 1000 ft            B-767-300   \n",
       "\n",
       "  Effect: Impact to flight     FlightDate  Record ID Effect: Indicated Damage  \\\n",
       "0                      NaN  1/1/2005 0:00     227413                No damage   \n",
       "1                      NaN  1/1/2005 0:00     226578                No damage   \n",
       "2                      NaN  1/1/2005 0:00     268383            Caused damage   \n",
       "3                     None  1/1/2005 0:00     229514            Caused damage   \n",
       "4                      NaN  1/1/2005 0:00     225661                No damage   \n",
       "\n",
       "  Aircraft: Number of engines? Aircraft: Airline/Operator Origin State  \\\n",
       "0                            2         NORTHWEST AIRLINES     Michigan   \n",
       "1                            2         NORTHWEST AIRLINES    Wisconsin   \n",
       "2                            1            PRIVATELY OWNED    Tennessee   \n",
       "3                            2         SOUTHWEST AIRLINES   California   \n",
       "4                            2            UNITED AIRLINES          NaN   \n",
       "\n",
       "  When: Phase of flight Wildlife: Size            Wildlife: Species  \\\n",
       "0                 Climb         Medium        Unknown bird - medium   \n",
       "1          Take-off run         Medium        Unknown bird - medium   \n",
       "2          Landing Roll          Large            White-tailed deer   \n",
       "3              Approach          Large  Greater white-fronted goose   \n",
       "4          Landing Roll         Medium        Unknown bird - medium   \n",
       "\n",
       "   When: Time (HHMM) When: Time of day Pilot warned of birds or wildlife?  \\\n",
       "0                NaN               NaN                                NaN   \n",
       "1                NaN               NaN                                NaN   \n",
       "2                NaN               Day                                NaN   \n",
       "3             2140.0             Night                                  Y   \n",
       "4                NaN               NaN                                NaN   \n",
       "\n",
       "   Cost: Aircraft time out of service (hours)  Cost: Other (inflation adj)  \\\n",
       "0                                         NaN                            0   \n",
       "1                                         NaN                            0   \n",
       "2                                         NaN                            0   \n",
       "3                                         NaN                            0   \n",
       "4                                         NaN                            0   \n",
       "\n",
       "   Cost: Repair (inflation adj)  Cost: Total $  Miles from airport  \\\n",
       "0                             0              0                 NaN   \n",
       "1                             0              0                 0.0   \n",
       "2                             0              0                 0.0   \n",
       "3                        117135         117135                 NaN   \n",
       "4                             0              0                 0.0   \n",
       "\n",
       "   Feet above ground  Speed (IAS) in knots  \n",
       "0              400.0                   NaN  \n",
       "1                0.0                   NaN  \n",
       "2                0.0                  20.0  \n",
       "3              500.0                 142.0  \n",
       "4                0.0                   NaN  "
      ]
     },
     "execution_count": 9,
     "metadata": {},
     "output_type": "execute_result"
    }
   ],
   "source": [
    "# take a look at the first 5 rows of data\n",
    "\n",
    "bird.head()"
   ]
  },
  {
   "cell_type": "code",
   "execution_count": 10,
   "metadata": {},
   "outputs": [
    {
     "name": "stdout",
     "output_type": "stream",
     "text": [
      "<class 'pandas.core.frame.DataFrame'>\n",
      "Int64Index: 65610 entries, 0 to 65609\n",
      "Data columns (total 23 columns):\n",
      "Airport: Name                                 65601 non-null object\n",
      "Altitude bin                                  65610 non-null object\n",
      "Aircraft: Make/Model                          65610 non-null object\n",
      "Effect: Impact to flight                      36516 non-null object\n",
      "FlightDate                                    65610 non-null object\n",
      "Record ID                                     65610 non-null int64\n",
      "Effect: Indicated Damage                      65610 non-null object\n",
      "Aircraft: Number of engines?                  42766 non-null object\n",
      "Aircraft: Airline/Operator                    65610 non-null object\n",
      "Origin State                                  59163 non-null object\n",
      "When: Phase of flight                         41051 non-null object\n",
      "Wildlife: Size                                56684 non-null object\n",
      "Wildlife: Species                             65593 non-null object\n",
      "When: Time (HHMM)                             36636 non-null float64\n",
      "When: Time of day                             41858 non-null object\n",
      "Pilot warned of birds or wildlife?            28361 non-null object\n",
      "Cost: Aircraft time out of service (hours)    4363 non-null float64\n",
      "Cost: Other (inflation adj)                   65610 non-null int64\n",
      "Cost: Repair (inflation adj)                  65610 non-null int64\n",
      "Cost: Total $                                 65610 non-null int64\n",
      "Miles from airport                            37867 non-null float64\n",
      "Feet above ground                             35069 non-null float64\n",
      "Speed (IAS) in knots                          25315 non-null float64\n",
      "dtypes: float64(5), int64(4), object(14)\n",
      "memory usage: 12.0+ MB\n"
     ]
    }
   ],
   "source": [
    "# check the number of entries and data type for each variable\n",
    "#Concise summary of a DataFrame\n",
    "\n",
    "bird.info()"
   ]
  },
  {
   "cell_type": "code",
   "execution_count": 20,
   "metadata": {},
   "outputs": [
    {
     "data": {
      "text/html": [
       "<div>\n",
       "<style>\n",
       "    .dataframe thead tr:only-child th {\n",
       "        text-align: right;\n",
       "    }\n",
       "\n",
       "    .dataframe thead th {\n",
       "        text-align: left;\n",
       "    }\n",
       "\n",
       "    .dataframe tbody tr th {\n",
       "        vertical-align: top;\n",
       "    }\n",
       "</style>\n",
       "<table border=\"1\" class=\"dataframe\">\n",
       "  <thead>\n",
       "    <tr style=\"text-align: right;\">\n",
       "      <th></th>\n",
       "      <th>When: Time (HHMM)</th>\n",
       "      <th>Cost: Aircraft time out of service (hours)</th>\n",
       "      <th>Cost: Other (inflation adj)</th>\n",
       "      <th>Cost: Repair (inflation adj)</th>\n",
       "      <th>Cost: Total $</th>\n",
       "      <th>Miles from airport</th>\n",
       "      <th>Feet above ground</th>\n",
       "      <th>Speed (IAS) in knots</th>\n",
       "    </tr>\n",
       "  </thead>\n",
       "  <tbody>\n",
       "    <tr>\n",
       "      <th>count</th>\n",
       "      <td>36636.000000</td>\n",
       "      <td>4363.000000</td>\n",
       "      <td>6.561000e+04</td>\n",
       "      <td>6.561000e+04</td>\n",
       "      <td>6.561000e+04</td>\n",
       "      <td>37867.000000</td>\n",
       "      <td>35069.000000</td>\n",
       "      <td>25315.000000</td>\n",
       "    </tr>\n",
       "    <tr>\n",
       "      <th>mean</th>\n",
       "      <td>1389.074271</td>\n",
       "      <td>66.022003</td>\n",
       "      <td>3.638845e+02</td>\n",
       "      <td>4.170667e+03</td>\n",
       "      <td>4.534551e+03</td>\n",
       "      <td>0.756544</td>\n",
       "      <td>879.610283</td>\n",
       "      <td>151.563658</td>\n",
       "    </tr>\n",
       "    <tr>\n",
       "      <th>std</th>\n",
       "      <td>613.410508</td>\n",
       "      <td>328.540826</td>\n",
       "      <td>2.449922e+04</td>\n",
       "      <td>1.888698e+05</td>\n",
       "      <td>1.929826e+05</td>\n",
       "      <td>7.586022</td>\n",
       "      <td>1843.923421</td>\n",
       "      <td>267.393363</td>\n",
       "    </tr>\n",
       "    <tr>\n",
       "      <th>min</th>\n",
       "      <td>0.000000</td>\n",
       "      <td>0.000000</td>\n",
       "      <td>0.000000e+00</td>\n",
       "      <td>0.000000e+00</td>\n",
       "      <td>0.000000e+00</td>\n",
       "      <td>0.000000</td>\n",
       "      <td>0.000000</td>\n",
       "      <td>0.000000</td>\n",
       "    </tr>\n",
       "    <tr>\n",
       "      <th>25%</th>\n",
       "      <td>915.000000</td>\n",
       "      <td>0.000000</td>\n",
       "      <td>0.000000e+00</td>\n",
       "      <td>0.000000e+00</td>\n",
       "      <td>0.000000e+00</td>\n",
       "      <td>0.000000</td>\n",
       "      <td>0.000000</td>\n",
       "      <td>120.000000</td>\n",
       "    </tr>\n",
       "    <tr>\n",
       "      <th>50%</th>\n",
       "      <td>1410.000000</td>\n",
       "      <td>1.000000</td>\n",
       "      <td>0.000000e+00</td>\n",
       "      <td>0.000000e+00</td>\n",
       "      <td>0.000000e+00</td>\n",
       "      <td>0.000000</td>\n",
       "      <td>50.000000</td>\n",
       "      <td>140.000000</td>\n",
       "    </tr>\n",
       "    <tr>\n",
       "      <th>75%</th>\n",
       "      <td>1930.000000</td>\n",
       "      <td>12.000000</td>\n",
       "      <td>0.000000e+00</td>\n",
       "      <td>0.000000e+00</td>\n",
       "      <td>0.000000e+00</td>\n",
       "      <td>0.000000</td>\n",
       "      <td>900.000000</td>\n",
       "      <td>160.000000</td>\n",
       "    </tr>\n",
       "    <tr>\n",
       "      <th>max</th>\n",
       "      <td>2359.000000</td>\n",
       "      <td>6480.000000</td>\n",
       "      <td>5.856751e+06</td>\n",
       "      <td>3.794880e+07</td>\n",
       "      <td>3.794880e+07</td>\n",
       "      <td>1300.000000</td>\n",
       "      <td>31300.000000</td>\n",
       "      <td>9999.000000</td>\n",
       "    </tr>\n",
       "  </tbody>\n",
       "</table>\n",
       "</div>"
      ],
      "text/plain": [
       "       When: Time (HHMM)  Cost: Aircraft time out of service (hours)  \\\n",
       "count       36636.000000                                 4363.000000   \n",
       "mean         1389.074271                                   66.022003   \n",
       "std           613.410508                                  328.540826   \n",
       "min             0.000000                                    0.000000   \n",
       "25%           915.000000                                    0.000000   \n",
       "50%          1410.000000                                    1.000000   \n",
       "75%          1930.000000                                   12.000000   \n",
       "max          2359.000000                                 6480.000000   \n",
       "\n",
       "       Cost: Other (inflation adj)  Cost: Repair (inflation adj)  \\\n",
       "count                 6.561000e+04                  6.561000e+04   \n",
       "mean                  3.638845e+02                  4.170667e+03   \n",
       "std                   2.449922e+04                  1.888698e+05   \n",
       "min                   0.000000e+00                  0.000000e+00   \n",
       "25%                   0.000000e+00                  0.000000e+00   \n",
       "50%                   0.000000e+00                  0.000000e+00   \n",
       "75%                   0.000000e+00                  0.000000e+00   \n",
       "max                   5.856751e+06                  3.794880e+07   \n",
       "\n",
       "       Cost: Total $  Miles from airport  Feet above ground  \\\n",
       "count   6.561000e+04        37867.000000       35069.000000   \n",
       "mean    4.534551e+03            0.756544         879.610283   \n",
       "std     1.929826e+05            7.586022        1843.923421   \n",
       "min     0.000000e+00            0.000000           0.000000   \n",
       "25%     0.000000e+00            0.000000           0.000000   \n",
       "50%     0.000000e+00            0.000000          50.000000   \n",
       "75%     0.000000e+00            0.000000         900.000000   \n",
       "max     3.794880e+07         1300.000000       31300.000000   \n",
       "\n",
       "       Speed (IAS) in knots  \n",
       "count          25315.000000  \n",
       "mean             151.563658  \n",
       "std              267.393363  \n",
       "min                0.000000  \n",
       "25%              120.000000  \n",
       "50%              140.000000  \n",
       "75%              160.000000  \n",
       "max             9999.000000  "
      ]
     },
     "execution_count": 20,
     "metadata": {},
     "output_type": "execute_result"
    }
   ],
   "source": [
    "# get a quick description of non-null numeric values in the data\n",
    "\n",
    "#drop : Return new object with labels in requested axis removed.\n",
    "#describe : Generates descriptive statistics that summarize the central tendency, dispersion and shape of a dataset’s distribution, excluding NaN values.\n",
    "\n",
    "bird.drop(['Record ID'], axis= 1).describe()\n"
   ]
  },
  {
   "cell_type": "markdown",
   "metadata": {},
   "source": [
    "# Data is unbalanced\n",
    "\n",
    "descriptive statistic will be performed with:\n",
    "\n",
    "# whole data set \n",
    "# subset with any damage"
   ]
  },
  {
   "cell_type": "code",
   "execution_count": 22,
   "metadata": {
    "collapsed": true
   },
   "outputs": [],
   "source": [
    "# subset the data with damage / negative impact \n",
    "bird_dmg = bird.loc[(bird['Effect: Indicated Damage'] != 'No damage') | \n",
    "                    (bird['Cost: Total $'] > 0) ]"
   ]
  },
  {
   "cell_type": "code",
   "execution_count": 28,
   "metadata": {},
   "outputs": [
    {
     "data": {
      "text/html": [
       "<div>\n",
       "<style>\n",
       "    .dataframe thead tr:only-child th {\n",
       "        text-align: right;\n",
       "    }\n",
       "\n",
       "    .dataframe thead th {\n",
       "        text-align: left;\n",
       "    }\n",
       "\n",
       "    .dataframe tbody tr th {\n",
       "        vertical-align: top;\n",
       "    }\n",
       "</style>\n",
       "<table border=\"1\" class=\"dataframe\">\n",
       "  <thead>\n",
       "    <tr style=\"text-align: right;\">\n",
       "      <th></th>\n",
       "      <th>Aircraft: Number of engines?</th>\n",
       "      <th>count</th>\n",
       "    </tr>\n",
       "  </thead>\n",
       "  <tbody>\n",
       "    <tr>\n",
       "      <th>1</th>\n",
       "      <td>2</td>\n",
       "      <td>37127</td>\n",
       "    </tr>\n",
       "    <tr>\n",
       "      <th>2</th>\n",
       "      <td>3</td>\n",
       "      <td>2456</td>\n",
       "    </tr>\n",
       "    <tr>\n",
       "      <th>0</th>\n",
       "      <td>1</td>\n",
       "      <td>2114</td>\n",
       "    </tr>\n",
       "    <tr>\n",
       "      <th>3</th>\n",
       "      <td>4</td>\n",
       "      <td>1068</td>\n",
       "    </tr>\n",
       "    <tr>\n",
       "      <th>4</th>\n",
       "      <td>S</td>\n",
       "      <td>1</td>\n",
       "    </tr>\n",
       "  </tbody>\n",
       "</table>\n",
       "</div>"
      ],
      "text/plain": [
       "  Aircraft: Number of engines?  count\n",
       "1                            2  37127\n",
       "2                            3   2456\n",
       "0                            1   2114\n",
       "3                            4   1068\n",
       "4                            S      1"
      ]
     },
     "execution_count": 28,
     "metadata": {},
     "output_type": "execute_result"
    }
   ],
   "source": [
    "# get a table of number of strikes across aircraft type and aircraft engine numbers\n",
    "count_air_type = DataFrame({'count' : bird.groupby( ['Aircraft: Number of engines?'] ).size()}).reset_index()\n",
    "count_air_type.sort_values(['count'], ascending=0)\n"
   ]
  },
  {
   "cell_type": "code",
   "execution_count": 29,
   "metadata": {},
   "outputs": [
    {
     "data": {
      "image/png": "[encoded data removed]",
      "text/plain": [
       "<matplotlib.figure.Figure at 0x7fe518d7b4e0>"
      ]
     },
     "metadata": {},
     "output_type": "display_data"
    }
   ],
   "source": [
    "# set abnormal entries for Aircraft: Number of engines? to be NaN\n",
    "bird.loc[(bird['Aircraft: Number of engines?'] == 'S'),'Aircraft: Number of engines?'] = np.nan\n",
    "\n",
    "# update bird_dmg as well\n",
    "bird_dmg = bird.loc[(bird['Effect: Indicated Damage'] != 'No damage') | \n",
    "                    (bird['Cost: Total $'] > 0) ]\n",
    "\n",
    "# re-generate count table\n",
    "count_air_type = DataFrame({'count' : bird.groupby( ['Aircraft: Number of engines?'] ).size()}).reset_index()\n",
    "# plot the frequency of Aircraft: Number of engines?\n",
    "fig_air_type = sns.barplot(x=u'Aircraft: Number of engines?', y='count', data=count_air_type)\n",
    "fig_air_type.set(xlabel='Aircraft: Number of Engines', ylabel='Counts - All Strikes');\n",
    "fig_air_type.set_title('The Frequency of All Strikes Over Aircraft Number of Engines');"
   ]
  },
  {
   "cell_type": "code",
   "execution_count": 30,
   "metadata": {},
   "outputs": [
    {
     "data": {
      "image/png": "[encoded data removed]",
      "text/plain": [
       "<matplotlib.figure.Figure at 0x7fe518daf940>"
      ]
     },
     "metadata": {},
     "output_type": "display_data"
    }
   ],
   "source": [
    "# table for damaging stikes\n",
    "count_air_type0 = DataFrame({'count' : bird_dmg.groupby( [ 'Aircraft: Number of engines?'] ).size()}).reset_index()\n",
    "count_air_type0['All Strikes Counts'] = count_air_type['count']\n",
    "count_air_type0['Damage Rate'] = count_air_type0['count']/count_air_type0['All Strikes Counts']\n",
    "# plot the frequency of Aircraft: Number of engines?\n",
    "fig_air_type0 = sns.barplot(x=u'Aircraft: Number of engines?', y='count', data=count_air_type0)\n",
    "fig_air_type0.set(xlabel='Aircraft: Number of Engines', ylabel='Counts - Damaging Strikes');\n",
    "fig_air_type0.set_title('The Frequency of Damaging Strikes Over \\n Aircraft Number of Engines');"
   ]
  },
  {
   "cell_type": "code",
   "execution_count": 31,
   "metadata": {},
   "outputs": [
    {
     "data": {
      "image/png": "[encoded data removed]",
      "text/plain": [
       "<matplotlib.figure.Figure at 0x7fe518db97b8>"
      ]
     },
     "metadata": {},
     "output_type": "display_data"
    }
   ],
   "source": [
    "# plot the damage rate of Aircraft: Number of engines?\n",
    "fig_air_type01 = sns.barplot(x=u'Aircraft: Number of engines?', y='Damage Rate', data=count_air_type0)\n",
    "fig_air_type01.set(xlabel='Aircraft: Number of Engines', ylabel='Damage Rate');\n",
    "fig_air_type01.set_title('Damage Rate Over Aircraft Number of Engines');"
   ]
  },
  {
   "cell_type": "code",
   "execution_count": 32,
   "metadata": {},
   "outputs": [
    {
     "data": {
      "text/html": [
       "<div>\n",
       "<style>\n",
       "    .dataframe thead tr:only-child th {\n",
       "        text-align: right;\n",
       "    }\n",
       "\n",
       "    .dataframe thead th {\n",
       "        text-align: left;\n",
       "    }\n",
       "\n",
       "    .dataframe tbody tr th {\n",
       "        vertical-align: top;\n",
       "    }\n",
       "</style>\n",
       "<table border=\"1\" class=\"dataframe\">\n",
       "  <thead>\n",
       "    <tr style=\"text-align: right;\">\n",
       "      <th></th>\n",
       "      <th>Aircraft: Airline/Operator</th>\n",
       "      <th>count</th>\n",
       "    </tr>\n",
       "  </thead>\n",
       "  <tbody>\n",
       "    <tr>\n",
       "      <th>277</th>\n",
       "      <td>UNKNOWN</td>\n",
       "      <td>16342</td>\n",
       "    </tr>\n",
       "    <tr>\n",
       "      <th>196</th>\n",
       "      <td>MILITARY</td>\n",
       "      <td>6108</td>\n",
       "    </tr>\n",
       "    <tr>\n",
       "      <th>253</th>\n",
       "      <td>SOUTHWEST AIRLINES</td>\n",
       "      <td>5995</td>\n",
       "    </tr>\n",
       "    <tr>\n",
       "      <th>72</th>\n",
       "      <td>BUSINESS</td>\n",
       "      <td>4305</td>\n",
       "    </tr>\n",
       "    <tr>\n",
       "      <th>134</th>\n",
       "      <td>FEDEX EXPRESS</td>\n",
       "      <td>3092</td>\n",
       "    </tr>\n",
       "    <tr>\n",
       "      <th>279</th>\n",
       "      <td>UPS AIRLINES</td>\n",
       "      <td>2898</td>\n",
       "    </tr>\n",
       "    <tr>\n",
       "      <th>275</th>\n",
       "      <td>UNITED AIRLINES</td>\n",
       "      <td>2805</td>\n",
       "    </tr>\n",
       "    <tr>\n",
       "      <th>45</th>\n",
       "      <td>AMERICAN AIRLINES</td>\n",
       "      <td>2102</td>\n",
       "    </tr>\n",
       "    <tr>\n",
       "      <th>111</th>\n",
       "      <td>DELTA AIR LINES</td>\n",
       "      <td>1573</td>\n",
       "    </tr>\n",
       "    <tr>\n",
       "      <th>250</th>\n",
       "      <td>SKYWEST AIRLINES</td>\n",
       "      <td>1569</td>\n",
       "    </tr>\n",
       "  </tbody>\n",
       "</table>\n",
       "</div>"
      ],
      "text/plain": [
       "    Aircraft: Airline/Operator  count\n",
       "277                    UNKNOWN  16342\n",
       "196                   MILITARY   6108\n",
       "253         SOUTHWEST AIRLINES   5995\n",
       "72                    BUSINESS   4305\n",
       "134              FEDEX EXPRESS   3092\n",
       "279               UPS AIRLINES   2898\n",
       "275            UNITED AIRLINES   2805\n",
       "45           AMERICAN AIRLINES   2102\n",
       "111            DELTA AIR LINES   1573\n",
       "250           SKYWEST AIRLINES   1569"
      ]
     },
     "execution_count": 32,
     "metadata": {},
     "output_type": "execute_result"
    }
   ],
   "source": [
    "#top 10 frequent aircrafts\n",
    "\n",
    "count_air_n_eng = DataFrame({'count' : bird.groupby( ['Aircraft: Airline/Operator'] ).size()}).reset_index()\n",
    "count_air_n_eng.sort_values(['count'], ascending=0).head(10)"
   ]
  },
  {
   "cell_type": "code",
   "execution_count": 33,
   "metadata": {},
   "outputs": [
    {
     "data": {
      "text/html": [
       "<div>\n",
       "<style>\n",
       "    .dataframe thead tr:only-child th {\n",
       "        text-align: right;\n",
       "    }\n",
       "\n",
       "    .dataframe thead th {\n",
       "        text-align: left;\n",
       "    }\n",
       "\n",
       "    .dataframe tbody tr th {\n",
       "        vertical-align: top;\n",
       "    }\n",
       "</style>\n",
       "<table border=\"1\" class=\"dataframe\">\n",
       "  <thead>\n",
       "    <tr style=\"text-align: right;\">\n",
       "      <th></th>\n",
       "      <th>Aircraft: Airline/Operator</th>\n",
       "      <th>count</th>\n",
       "    </tr>\n",
       "  </thead>\n",
       "  <tbody>\n",
       "    <tr>\n",
       "      <th>42</th>\n",
       "      <td>BUSINESS</td>\n",
       "      <td>1220</td>\n",
       "    </tr>\n",
       "    <tr>\n",
       "      <th>153</th>\n",
       "      <td>SOUTHWEST AIRLINES</td>\n",
       "      <td>471</td>\n",
       "    </tr>\n",
       "    <tr>\n",
       "      <th>118</th>\n",
       "      <td>MILITARY</td>\n",
       "      <td>254</td>\n",
       "    </tr>\n",
       "    <tr>\n",
       "      <th>162</th>\n",
       "      <td>UNITED AIRLINES</td>\n",
       "      <td>248</td>\n",
       "    </tr>\n",
       "    <tr>\n",
       "      <th>138</th>\n",
       "      <td>PRIVATELY OWNED</td>\n",
       "      <td>241</td>\n",
       "    </tr>\n",
       "    <tr>\n",
       "      <th>165</th>\n",
       "      <td>UPS AIRLINES</td>\n",
       "      <td>197</td>\n",
       "    </tr>\n",
       "    <tr>\n",
       "      <th>25</th>\n",
       "      <td>AMERICAN AIRLINES</td>\n",
       "      <td>172</td>\n",
       "    </tr>\n",
       "    <tr>\n",
       "      <th>82</th>\n",
       "      <td>FEDEX EXPRESS</td>\n",
       "      <td>170</td>\n",
       "    </tr>\n",
       "    <tr>\n",
       "      <th>67</th>\n",
       "      <td>DELTA AIR LINES</td>\n",
       "      <td>169</td>\n",
       "    </tr>\n",
       "    <tr>\n",
       "      <th>101</th>\n",
       "      <td>JETBLUE AIRWAYS</td>\n",
       "      <td>113</td>\n",
       "    </tr>\n",
       "  </tbody>\n",
       "</table>\n",
       "</div>"
      ],
      "text/plain": [
       "    Aircraft: Airline/Operator  count\n",
       "42                    BUSINESS   1220\n",
       "153         SOUTHWEST AIRLINES    471\n",
       "118                   MILITARY    254\n",
       "162            UNITED AIRLINES    248\n",
       "138            PRIVATELY OWNED    241\n",
       "165               UPS AIRLINES    197\n",
       "25           AMERICAN AIRLINES    172\n",
       "82               FEDEX EXPRESS    170\n",
       "67             DELTA AIR LINES    169\n",
       "101            JETBLUE AIRWAYS    113"
      ]
     },
     "execution_count": 33,
     "metadata": {},
     "output_type": "execute_result"
    }
   ],
   "source": [
    "count_air_n_eng0 = DataFrame({'count' : bird_dmg.groupby( ['Aircraft: Airline/Operator'] ).size()}).reset_index()\n",
    "count_air_n_eng0.sort_values(['count'], ascending=0).head(10)"
   ]
  },
  {
   "cell_type": "code",
   "execution_count": 34,
   "metadata": {},
   "outputs": [
    {
     "data": {
      "text/html": [
       "<div>\n",
       "<style>\n",
       "    .dataframe thead tr:only-child th {\n",
       "        text-align: right;\n",
       "    }\n",
       "\n",
       "    .dataframe thead th {\n",
       "        text-align: left;\n",
       "    }\n",
       "\n",
       "    .dataframe tbody tr th {\n",
       "        vertical-align: top;\n",
       "    }\n",
       "</style>\n",
       "<table border=\"1\" class=\"dataframe\">\n",
       "  <thead>\n",
       "    <tr style=\"text-align: right;\">\n",
       "      <th></th>\n",
       "      <th>Aircraft: Make/Model</th>\n",
       "      <th>count</th>\n",
       "    </tr>\n",
       "  </thead>\n",
       "  <tbody>\n",
       "    <tr>\n",
       "      <th>448</th>\n",
       "      <td>UNKNOWN</td>\n",
       "      <td>19540</td>\n",
       "    </tr>\n",
       "    <tr>\n",
       "      <th>49</th>\n",
       "      <td>B-737-700</td>\n",
       "      <td>3634</td>\n",
       "    </tr>\n",
       "    <tr>\n",
       "      <th>195</th>\n",
       "      <td>CL-RJ100/200</td>\n",
       "      <td>3133</td>\n",
       "    </tr>\n",
       "    <tr>\n",
       "      <th>45</th>\n",
       "      <td>B-737-300</td>\n",
       "      <td>2912</td>\n",
       "    </tr>\n",
       "    <tr>\n",
       "      <th>6</th>\n",
       "      <td>A-320</td>\n",
       "      <td>2825</td>\n",
       "    </tr>\n",
       "    <tr>\n",
       "      <th>58</th>\n",
       "      <td>B-757-200</td>\n",
       "      <td>2363</td>\n",
       "    </tr>\n",
       "    <tr>\n",
       "      <th>5</th>\n",
       "      <td>A-319</td>\n",
       "      <td>1967</td>\n",
       "    </tr>\n",
       "    <tr>\n",
       "      <th>2</th>\n",
       "      <td>A-300</td>\n",
       "      <td>1748</td>\n",
       "    </tr>\n",
       "    <tr>\n",
       "      <th>258</th>\n",
       "      <td>EMB-145</td>\n",
       "      <td>1618</td>\n",
       "    </tr>\n",
       "    <tr>\n",
       "      <th>50</th>\n",
       "      <td>B-737-800</td>\n",
       "      <td>1132</td>\n",
       "    </tr>\n",
       "  </tbody>\n",
       "</table>\n",
       "</div>"
      ],
      "text/plain": [
       "    Aircraft: Make/Model  count\n",
       "448              UNKNOWN  19540\n",
       "49             B-737-700   3634\n",
       "195         CL-RJ100/200   3133\n",
       "45             B-737-300   2912\n",
       "6                  A-320   2825\n",
       "58             B-757-200   2363\n",
       "5                  A-319   1967\n",
       "2                  A-300   1748\n",
       "258              EMB-145   1618\n",
       "50             B-737-800   1132"
      ]
     },
     "execution_count": 34,
     "metadata": {},
     "output_type": "execute_result"
    }
   ],
   "source": [
    "#top 10 aircraft make or model sorted of frequency of getting struck\n",
    "count_air_make = DataFrame({'count' : bird.groupby( ['Aircraft: Make/Model'] ).size()}).reset_index()\n",
    "count_air_make.sort_values(['count'], ascending=0).head(10)\n",
    "\n"
   ]
  },
  {
   "cell_type": "code",
   "execution_count": 37,
   "metadata": {},
   "outputs": [
    {
     "data": {
      "text/html": [
       "<div>\n",
       "<style>\n",
       "    .dataframe thead tr:only-child th {\n",
       "        text-align: right;\n",
       "    }\n",
       "\n",
       "    .dataframe thead th {\n",
       "        text-align: left;\n",
       "    }\n",
       "\n",
       "    .dataframe tbody tr th {\n",
       "        vertical-align: top;\n",
       "    }\n",
       "</style>\n",
       "<table border=\"1\" class=\"dataframe\">\n",
       "  <thead>\n",
       "    <tr style=\"text-align: right;\">\n",
       "      <th></th>\n",
       "      <th>Aircraft: Make/Model</th>\n",
       "      <th>count</th>\n",
       "    </tr>\n",
       "  </thead>\n",
       "  <tbody>\n",
       "    <tr>\n",
       "      <th>41</th>\n",
       "      <td>B-737-700</td>\n",
       "      <td>278</td>\n",
       "    </tr>\n",
       "    <tr>\n",
       "      <th>38</th>\n",
       "      <td>B-737-300</td>\n",
       "      <td>268</td>\n",
       "    </tr>\n",
       "    <tr>\n",
       "      <th>49</th>\n",
       "      <td>B-757-200</td>\n",
       "      <td>236</td>\n",
       "    </tr>\n",
       "    <tr>\n",
       "      <th>6</th>\n",
       "      <td>A-320</td>\n",
       "      <td>225</td>\n",
       "    </tr>\n",
       "    <tr>\n",
       "      <th>145</th>\n",
       "      <td>CL-RJ100/200</td>\n",
       "      <td>208</td>\n",
       "    </tr>\n",
       "    <tr>\n",
       "      <th>5</th>\n",
       "      <td>A-319</td>\n",
       "      <td>171</td>\n",
       "    </tr>\n",
       "    <tr>\n",
       "      <th>307</th>\n",
       "      <td>UNKNOWN</td>\n",
       "      <td>161</td>\n",
       "    </tr>\n",
       "    <tr>\n",
       "      <th>98</th>\n",
       "      <td>C-172</td>\n",
       "      <td>149</td>\n",
       "    </tr>\n",
       "    <tr>\n",
       "      <th>181</th>\n",
       "      <td>EMB-145</td>\n",
       "      <td>122</td>\n",
       "    </tr>\n",
       "    <tr>\n",
       "      <th>2</th>\n",
       "      <td>A-300</td>\n",
       "      <td>115</td>\n",
       "    </tr>\n",
       "  </tbody>\n",
       "</table>\n",
       "</div>"
      ],
      "text/plain": [
       "    Aircraft: Make/Model  count\n",
       "41             B-737-700    278\n",
       "38             B-737-300    268\n",
       "49             B-757-200    236\n",
       "6                  A-320    225\n",
       "145         CL-RJ100/200    208\n",
       "5                  A-319    171\n",
       "307              UNKNOWN    161\n",
       "98                 C-172    149\n",
       "181              EMB-145    122\n",
       "2                  A-300    115"
      ]
     },
     "execution_count": 37,
     "metadata": {},
     "output_type": "execute_result"
    }
   ],
   "source": [
    "count_air_make0 = DataFrame({'count' : bird_dmg.groupby( ['Aircraft: Make/Model'] ).size()}).reset_index()\n",
    "count_air_make0.sort_values(['count'], ascending=0).head(10)\n"
   ]
  },
  {
   "cell_type": "code",
   "execution_count": 38,
   "metadata": {},
   "outputs": [
    {
     "data": {
      "text/html": [
       "<div>\n",
       "<style>\n",
       "    .dataframe thead tr:only-child th {\n",
       "        text-align: right;\n",
       "    }\n",
       "\n",
       "    .dataframe thead th {\n",
       "        text-align: left;\n",
       "    }\n",
       "\n",
       "    .dataframe tbody tr th {\n",
       "        vertical-align: top;\n",
       "    }\n",
       "</style>\n",
       "<table border=\"1\" class=\"dataframe\">\n",
       "  <thead>\n",
       "    <tr style=\"text-align: right;\">\n",
       "      <th></th>\n",
       "      <th>Wildlife: Species</th>\n",
       "      <th>count</th>\n",
       "    </tr>\n",
       "  </thead>\n",
       "  <tbody>\n",
       "    <tr>\n",
       "      <th>495</th>\n",
       "      <td>Unknown bird - small</td>\n",
       "      <td>12645</td>\n",
       "    </tr>\n",
       "    <tr>\n",
       "      <th>494</th>\n",
       "      <td>Unknown bird - medium</td>\n",
       "      <td>11513</td>\n",
       "    </tr>\n",
       "    <tr>\n",
       "      <th>319</th>\n",
       "      <td>Mourning dove</td>\n",
       "      <td>3265</td>\n",
       "    </tr>\n",
       "    <tr>\n",
       "      <th>496</th>\n",
       "      <td>Unknown bird or bat</td>\n",
       "      <td>3066</td>\n",
       "    </tr>\n",
       "    <tr>\n",
       "      <th>270</th>\n",
       "      <td>Killdeer</td>\n",
       "      <td>2188</td>\n",
       "    </tr>\n",
       "    <tr>\n",
       "      <th>11</th>\n",
       "      <td>American kestrel</td>\n",
       "      <td>1976</td>\n",
       "    </tr>\n",
       "    <tr>\n",
       "      <th>492</th>\n",
       "      <td>Unknown bird</td>\n",
       "      <td>1848</td>\n",
       "    </tr>\n",
       "    <tr>\n",
       "      <th>259</th>\n",
       "      <td>Horned lark</td>\n",
       "      <td>1670</td>\n",
       "    </tr>\n",
       "    <tr>\n",
       "      <th>31</th>\n",
       "      <td>Barn swallow</td>\n",
       "      <td>1639</td>\n",
       "    </tr>\n",
       "    <tr>\n",
       "      <th>186</th>\n",
       "      <td>European starling</td>\n",
       "      <td>1504</td>\n",
       "    </tr>\n",
       "  </tbody>\n",
       "</table>\n",
       "</div>"
      ],
      "text/plain": [
       "         Wildlife: Species  count\n",
       "495   Unknown bird - small  12645\n",
       "494  Unknown bird - medium  11513\n",
       "319          Mourning dove   3265\n",
       "496    Unknown bird or bat   3066\n",
       "270               Killdeer   2188\n",
       "11        American kestrel   1976\n",
       "492           Unknown bird   1848\n",
       "259            Horned lark   1670\n",
       "31            Barn swallow   1639\n",
       "186      European starling   1504"
      ]
     },
     "execution_count": 38,
     "metadata": {},
     "output_type": "execute_result"
    }
   ],
   "source": [
    "# top 10 bird species - all strikes\n",
    "count_species = DataFrame({'count' : bird.groupby( ['Wildlife: Species'] ).size()}).reset_index()\n",
    "count_species.sort_values(['count'], ascending=0).head(10)"
   ]
  },
  {
   "cell_type": "code",
   "execution_count": 39,
   "metadata": {},
   "outputs": [
    {
     "data": {
      "text/html": [
       "<div>\n",
       "<style>\n",
       "    .dataframe thead tr:only-child th {\n",
       "        text-align: right;\n",
       "    }\n",
       "\n",
       "    .dataframe thead th {\n",
       "        text-align: left;\n",
       "    }\n",
       "\n",
       "    .dataframe tbody tr th {\n",
       "        vertical-align: top;\n",
       "    }\n",
       "</style>\n",
       "<table border=\"1\" class=\"dataframe\">\n",
       "  <thead>\n",
       "    <tr style=\"text-align: right;\">\n",
       "      <th></th>\n",
       "      <th>Wildlife: Species</th>\n",
       "      <th>count</th>\n",
       "    </tr>\n",
       "  </thead>\n",
       "  <tbody>\n",
       "    <tr>\n",
       "      <th>221</th>\n",
       "      <td>Unknown bird - medium</td>\n",
       "      <td>1089</td>\n",
       "    </tr>\n",
       "    <tr>\n",
       "      <th>222</th>\n",
       "      <td>Unknown bird - small</td>\n",
       "      <td>518</td>\n",
       "    </tr>\n",
       "    <tr>\n",
       "      <th>220</th>\n",
       "      <td>Unknown bird - large</td>\n",
       "      <td>332</td>\n",
       "    </tr>\n",
       "    <tr>\n",
       "      <th>108</th>\n",
       "      <td>Gulls</td>\n",
       "      <td>209</td>\n",
       "    </tr>\n",
       "    <tr>\n",
       "      <th>44</th>\n",
       "      <td>Canada goose</td>\n",
       "      <td>192</td>\n",
       "    </tr>\n",
       "    <tr>\n",
       "      <th>239</th>\n",
       "      <td>White-tailed deer</td>\n",
       "      <td>171</td>\n",
       "    </tr>\n",
       "    <tr>\n",
       "      <th>219</th>\n",
       "      <td>Unknown bird</td>\n",
       "      <td>170</td>\n",
       "    </tr>\n",
       "    <tr>\n",
       "      <th>181</th>\n",
       "      <td>Red-tailed hawk</td>\n",
       "      <td>142</td>\n",
       "    </tr>\n",
       "    <tr>\n",
       "      <th>218</th>\n",
       "      <td>Turkey vulture</td>\n",
       "      <td>121</td>\n",
       "    </tr>\n",
       "    <tr>\n",
       "      <th>223</th>\n",
       "      <td>Unknown bird or bat</td>\n",
       "      <td>101</td>\n",
       "    </tr>\n",
       "  </tbody>\n",
       "</table>\n",
       "</div>"
      ],
      "text/plain": [
       "         Wildlife: Species  count\n",
       "221  Unknown bird - medium   1089\n",
       "222   Unknown bird - small    518\n",
       "220   Unknown bird - large    332\n",
       "108                  Gulls    209\n",
       "44            Canada goose    192\n",
       "239      White-tailed deer    171\n",
       "219           Unknown bird    170\n",
       "181        Red-tailed hawk    142\n",
       "218         Turkey vulture    121\n",
       "223    Unknown bird or bat    101"
      ]
     },
     "execution_count": 39,
     "metadata": {},
     "output_type": "execute_result"
    }
   ],
   "source": [
    "# top 10 bird species causing damages\n",
    "count_species0 = DataFrame({'count' : bird_dmg.groupby( ['Wildlife: Species'] ).size()}).reset_index()\n",
    "count_species0.sort_values(['count'], ascending=0).head(10)\n",
    "\n"
   ]
  },
  {
   "cell_type": "code",
   "execution_count": 40,
   "metadata": {},
   "outputs": [
    {
     "data": {
      "image/png": "[encoded data removed]",
      "text/plain": [
       "<matplotlib.figure.Figure at 0x7fe518d2cd30>"
      ]
     },
     "metadata": {},
     "output_type": "display_data"
    }
   ],
   "source": [
    "# count of strikes by bird size \n",
    "count_bird = DataFrame({'count' : bird.groupby( ['Wildlife: Size'] ).size()}).reset_index()\n",
    "# plot the frequency of all strikes over Wildlife: Size\n",
    "fig_bird = sns.barplot(x=u'Wildlife: Size', y='count', data=count_bird)\n",
    "fig_bird.set(ylabel='Count - All Strikes',xlabel='Wildlife Size');\n",
    "fig_bird.set_title('The Frequency of All Strikes over Wildlife Size');"
   ]
  },
  {
   "cell_type": "code",
   "execution_count": 43,
   "metadata": {},
   "outputs": [
    {
     "data": {
      "image/png": "[encoded data removed]",
      "text/plain": [
       "<matplotlib.figure.Figure at 0x7fe51894f630>"
      ]
     },
     "metadata": {},
     "output_type": "display_data"
    }
   ],
   "source": [
    "# count of strikes by bird size \n",
    "count_bird0 = DataFrame({'count' : bird_dmg.groupby( ['Wildlife: Size'] ).size()}).reset_index()\n",
    "# plot the frequency of all strikes over Wildlife: Size\n",
    "fig_bird0 = sns.barplot(x=u'Wildlife: Size', y='count', data=count_bird)\n",
    "fig_bird0.set(ylabel='Count - Damaging Strikes',xlabel='Wildlife Size');\n",
    "fig_bird0.set_title('The Frequency of Damaging Strikes over Wildlife Size');\n",
    "#error\n",
    "#had to divide by all strikes count"
   ]
  },
  {
   "cell_type": "code",
   "execution_count": 45,
   "metadata": {},
   "outputs": [
    {
     "data": {
      "image/png": "[encoded data removed]",
      "text/plain": [
       "<matplotlib.figure.Figure at 0x7fe518c15a58>"
      ]
     },
     "metadata": {},
     "output_type": "display_data"
    }
   ],
   "source": [
    "# count of strikes by bird size\n",
    "count_bird0 = DataFrame({'count' : bird_dmg.groupby( ['Wildlife: Size'] ).size()}).reset_index()\n",
    "count_bird0['All Strikes Counts'] = count_bird['count']\n",
    "count_bird0['Damage Rate'] = count_bird0['count']/count_bird0['All Strikes Counts']\n",
    "\n",
    "# plot the frequency of damaging strikes Wildlife: Number struck and Wildlife: Size\n",
    "fig_bird0 = sns.barplot(x=u'Wildlife: Size', y='count', data=count_bird0)\n",
    "fig_bird0.set(ylabel='Count - Damaging Strikes',xlabel='Wildlife Size');\n",
    "fig_bird0.set_title('The Frequency of Damaging Strikes over Wildlife Size');"
   ]
  },
  {
   "cell_type": "code",
   "execution_count": 46,
   "metadata": {},
   "outputs": [
    {
     "data": {
      "image/png": "[encoded data removed]",
      "text/plain": [
       "<matplotlib.figure.Figure at 0x7fe5187d1ac8>"
      ]
     },
     "metadata": {},
     "output_type": "display_data"
    }
   ],
   "source": [
    "# plot damage rate over Wildlife: Size\n",
    "fig_bird01 = sns.barplot(x=u'Wildlife: Size', y=u'Damage Rate', data=count_bird0)\n",
    "fig_bird01.set(xlabel='Wildlife: Size', ylabel='Damage Rate');\n",
    "fig_bird01.set_title('Damage Rate over Wildlife Size');\n"
   ]
  },
  {
   "cell_type": "markdown",
   "metadata": {},
   "source": [
    "# Flight status during breaks"
   ]
  },
  {
   "cell_type": "code",
   "execution_count": 47,
   "metadata": {
    "collapsed": true
   },
   "outputs": [],
   "source": [
    "# There are a lot of missing data in these variables, but since the phase of the flight is available \n",
    "# some remedy is done here by filling in reasonalble values\n",
    "bird.loc[ (bird['Miles from airport'].isnull()) & ( (bird['When: Phase of flight'] == 'Take-off run') |\n",
    "          (bird['When: Phase of flight'] == 'Parked') | (bird['When: Phase of flight'] == 'Taxi') |\n",
    "          (bird['When: Phase of flight'] == 'Landing Roll') ),'Miles from airport'] = 0\n",
    "bird.loc[ (bird['Feet above ground'].isnull()) & ( (bird['When: Phase of flight'] == 'Take-off run') |\n",
    "          (bird['When: Phase of flight'] == 'Parked') | (bird['When: Phase of flight'] == 'Taxi') |\n",
    "          (bird['When: Phase of flight'] == 'Landing Roll') ),'Feet above ground'] = 0"
   ]
  },
  {
   "cell_type": "code",
   "execution_count": 48,
   "metadata": {},
   "outputs": [
    {
     "data": {
      "text/html": [
       "<div>\n",
       "<style>\n",
       "    .dataframe thead tr:only-child th {\n",
       "        text-align: right;\n",
       "    }\n",
       "\n",
       "    .dataframe thead th {\n",
       "        text-align: left;\n",
       "    }\n",
       "\n",
       "    .dataframe tbody tr th {\n",
       "        vertical-align: top;\n",
       "    }\n",
       "</style>\n",
       "<table border=\"1\" class=\"dataframe\">\n",
       "  <thead>\n",
       "    <tr style=\"text-align: right;\">\n",
       "      <th></th>\n",
       "      <th>Altitude bin</th>\n",
       "      <th>count</th>\n",
       "    </tr>\n",
       "  </thead>\n",
       "  <tbody>\n",
       "    <tr>\n",
       "      <th>0</th>\n",
       "      <td>&lt; 1000 ft</td>\n",
       "      <td>27523</td>\n",
       "    </tr>\n",
       "    <tr>\n",
       "      <th>1</th>\n",
       "      <td>&gt; 1000 ft</td>\n",
       "      <td>7546</td>\n",
       "    </tr>\n",
       "    <tr>\n",
       "      <th>2</th>\n",
       "      <td>Unknown</td>\n",
       "      <td>30541</td>\n",
       "    </tr>\n",
       "  </tbody>\n",
       "</table>\n",
       "</div>"
      ],
      "text/plain": [
       "  Altitude bin  count\n",
       "0    < 1000 ft  27523\n",
       "1    > 1000 ft   7546\n",
       "2      Unknown  30541"
      ]
     },
     "execution_count": 48,
     "metadata": {},
     "output_type": "execute_result"
    }
   ],
   "source": [
    "DataFrame({'count' : bird.groupby( ['Altitude bin'] ).size()}).reset_index()\n",
    "\n"
   ]
  },
  {
   "cell_type": "code",
   "execution_count": 51,
   "metadata": {},
   "outputs": [
    {
     "data": {
      "text/html": [
       "<div>\n",
       "<style>\n",
       "    .dataframe thead tr:only-child th {\n",
       "        text-align: right;\n",
       "    }\n",
       "\n",
       "    .dataframe thead th {\n",
       "        text-align: left;\n",
       "    }\n",
       "\n",
       "    .dataframe tbody tr th {\n",
       "        vertical-align: top;\n",
       "    }\n",
       "</style>\n",
       "<table border=\"1\" class=\"dataframe\">\n",
       "  <thead>\n",
       "    <tr style=\"text-align: right;\">\n",
       "      <th></th>\n",
       "      <th>Altitude bin</th>\n",
       "      <th>count</th>\n",
       "    </tr>\n",
       "  </thead>\n",
       "  <tbody>\n",
       "    <tr>\n",
       "      <th>0</th>\n",
       "      <td>&lt; 1000 ft</td>\n",
       "      <td>2483</td>\n",
       "    </tr>\n",
       "    <tr>\n",
       "      <th>1</th>\n",
       "      <td>&gt; 1000 ft</td>\n",
       "      <td>1225</td>\n",
       "    </tr>\n",
       "    <tr>\n",
       "      <th>2</th>\n",
       "      <td>Unknown</td>\n",
       "      <td>1188</td>\n",
       "    </tr>\n",
       "  </tbody>\n",
       "</table>\n",
       "</div>"
      ],
      "text/plain": [
       "  Altitude bin  count\n",
       "0    < 1000 ft   2483\n",
       "1    > 1000 ft   1225\n",
       "2      Unknown   1188"
      ]
     },
     "execution_count": 51,
     "metadata": {},
     "output_type": "execute_result"
    }
   ],
   "source": [
    "DataFrame({'count' : bird_dmg.groupby( ['Altitude bin'] ).size()}).reset_index()"
   ]
  },
  {
   "cell_type": "code",
   "execution_count": 52,
   "metadata": {},
   "outputs": [
    {
     "data": {
      "image/png": "[encoded data removed]",
      "text/plain": [
       "<matplotlib.figure.Figure at 0x7fe5188a1080>"
      ]
     },
     "metadata": {},
     "output_type": "display_data"
    }
   ],
   "source": [
    "# histogram of all bird strikes with aircraft altitude \n",
    "\n",
    "hist_altitude = sns.distplot(bird['Feet above ground'].dropna(),kde=False);\n",
    "hist_altitude.set_title('The Frequency of All Strikes over Aircraft Altitude');\n",
    "hist_altitude.set(ylabel='Count - All Strikes');"
   ]
  },
  {
   "cell_type": "code",
   "execution_count": 53,
   "metadata": {},
   "outputs": [
    {
     "data": {
      "image/png": "[encoded data removed]",
      "text/plain": [
       "<matplotlib.figure.Figure at 0x7fe518a04b00>"
      ]
     },
     "metadata": {},
     "output_type": "display_data"
    }
   ],
   "source": [
    "# histogram of damaging strikes with aircraft altitude \n",
    "hist_altitude0 = sns.distplot(bird_dmg['Feet above ground'].dropna(),kde=False);\n",
    "hist_altitude0.set_title('The Frequency of Damaging Strikes over Aircraft Altitude');\n",
    "hist_altitude0.set(ylabel='Count - Damaging Strikes');"
   ]
  },
  {
   "cell_type": "code",
   "execution_count": 54,
   "metadata": {
    "collapsed": true
   },
   "outputs": [],
   "source": [
    "# rate of aircraft below 1000 and 5000 ft for all strikes\n",
    "\n",
    "rate_1000 = len( bird.loc[bird['Altitude bin']=='< 1000 ft','Altitude bin'] ) / len( bird.loc[(bird['Altitude bin']=='< 1000 ft') | (bird['Altitude bin']=='> 1000 ft'),'Altitude bin'] )\n",
    "rate_5000 = len( bird.loc[bird['Feet above ground']<5000,'Feet above ground'] ) / len( bird.loc[~(bird['Feet above ground'].isnull()),'Feet above ground'] )\n",
    "\n",
    "# rate of aircraft below 1000 and 5000 ft for damaging strikes\n",
    "\n",
    "rate_1000 = len( bird_dmg.loc[bird_dmg['Altitude bin']=='< 1000 ft','Altitude bin'] ) / len( bird_dmg.loc[(bird_dmg['Altitude bin']=='< 1000 ft') | (bird_dmg['Altitude bin']=='> 1000 ft'),'Altitude bin'] )\n",
    "rate_5000 = len( bird_dmg.loc[bird_dmg['Feet above ground']<5000,'Feet above ground'] ) / len( bird_dmg.loc[~(bird_dmg['Feet above ground'].isnull()),'Feet above ground'] )"
   ]
  },
  {
   "cell_type": "code",
   "execution_count": 58,
   "metadata": {},
   "outputs": [
    {
     "data": {
      "text/plain": [
       "Approach        16914\n",
       "Landing Roll     7304\n",
       "Take-off run     7239\n",
       "Climb            6317\n",
       "En Route         1533\n",
       "Descent          1261\n",
       "Landing           315\n",
       "Taxi              126\n",
       "Parked             42\n",
       "Name: When: Phase of flight, dtype: int64"
      ]
     },
     "execution_count": 58,
     "metadata": {},
     "output_type": "execute_result"
    }
   ],
   "source": [
    "count_phase = bird['When: Phase of flight'].value_counts()\n",
    "count_phase"
   ]
  },
  {
   "cell_type": "markdown",
   "metadata": {},
   "source": [
    "# barplot"
   ]
  },
  {
   "cell_type": "code",
   "execution_count": 55,
   "metadata": {},
   "outputs": [
    {
     "data": {
      "image/png": "[encoded data removed]",
      "text/plain": [
       "<matplotlib.figure.Figure at 0x7fe5186dd4a8>"
      ]
     },
     "metadata": {},
     "output_type": "display_data"
    }
   ],
   "source": [
    "count_phase = bird['When: Phase of flight'].value_counts()\n",
    "fig_count = sns.barplot(x=count_phase.index, y=count_phase)\n",
    "fig_count.set_xticklabels(labels=count_phase.index,rotation=30);\n",
    "fig_count.set(xlabel='Phase of Flight', ylabel='Counts - All Strikes');\n",
    "fig_count.set_title('The Frequency of All Strikes over Flight Status');"
   ]
  },
  {
   "cell_type": "code",
   "execution_count": 59,
   "metadata": {},
   "outputs": [
    {
     "data": {
      "image/png": "[encoded data removed]",
      "text/plain": [
       "<matplotlib.figure.Figure at 0x7fe518610b00>"
      ]
     },
     "metadata": {},
     "output_type": "display_data"
    }
   ],
   "source": [
    "count_phase0 = bird_dmg['When: Phase of flight'].value_counts()\n",
    "fig_count0 = sns.barplot(x=count_phase0.index, y=count_phase0)\n",
    "fig_count0.set_xticklabels(labels=count_phase0.index,rotation=30);\n",
    "fig_count0.set(xlabel='Phase of Flight', ylabel='Counts - Damaging Strikes');\n",
    "fig_count0.set_title('The Frequency of Damaging Strikes over Flight Status');\n"
   ]
  },
  {
   "cell_type": "markdown",
   "metadata": {},
   "source": [
    "# Boxplot"
   ]
  },
  {
   "cell_type": "code",
   "execution_count": 60,
   "metadata": {},
   "outputs": [
    {
     "data": {
      "image/png": "[encoded data removed]",
      "text/plain": [
       "<matplotlib.figure.Figure at 0x7fe5186740f0>"
      ]
     },
     "metadata": {},
     "output_type": "display_data"
    }
   ],
   "source": [
    "#altitude of the plane vs distance from the airport : boxplot\n",
    "\n",
    "flight_altitude = sns.boxplot(x=\"When: Phase of flight\", y=\"Feet above ground\", data=bird)\n",
    "flight_altitude.set_xticklabels(flight_altitude.get_xticklabels(), rotation=30);\n",
    "flight_altitude.set_title('Flight Altitude across Flight Status among All Strikes');\n",
    "\n"
   ]
  },
  {
   "cell_type": "code",
   "execution_count": 61,
   "metadata": {},
   "outputs": [
    {
     "data": {
      "image/png": "[encoded data removed]",
      "text/plain": [
       "<matplotlib.figure.Figure at 0x7fe51846b588>"
      ]
     },
     "metadata": {},
     "output_type": "display_data"
    }
   ],
   "source": [
    "# one point stands out as the aircraft being 1200 miles from the airport in the Approach phase\n",
    "# which is unlikely and could be a data entry error, the 'Miles from airport' in this row is thus\n",
    "# replaced with NA, the boxplot is redrawn after the replacement\n",
    "bird.loc[bird['Miles from airport'] > 1200,'Miles from airport'] = np.nan\n",
    "\n",
    "# update bird_dmg as well\n",
    "bird_dmg = bird.loc[(bird['Effect: Indicated Damage'] != 'No damage') | \n",
    "                    (bird['Cost: Total $'] > 0) ]\n",
    "\n",
    "# re-draw the box plot\n",
    "flight_miles1 = sns.boxplot(x=\"When: Phase of flight\", y=\"Miles from airport\", data=bird) \n",
    "flight_miles1.set_xticklabels(labels=flight_miles1.get_xticklabels(),rotation=30);\n",
    "flight_miles1.set_title('Airplane-Airport Distance across Flight Status among All Strikes');"
   ]
  },
  {
   "cell_type": "markdown",
   "metadata": {},
   "source": [
    "# Scatterplot"
   ]
  },
  {
   "cell_type": "code",
   "execution_count": 62,
   "metadata": {},
   "outputs": [
    {
     "data": {
      "image/png": "[encoded data removed]",
      "text/plain": [
       "<matplotlib.figure.Figure at 0x7fe5183feb00>"
      ]
     },
     "metadata": {},
     "output_type": "display_data"
    }
   ],
   "source": [
    "#scatteplot of dist vs altitude\n",
    "bird1 = bird.loc[(~bird['Miles from airport'].isnull()) &\n",
    "                        (~bird['Feet above ground'].isnull()) ]\n",
    "plt.scatter(x='Miles from airport', y='Feet above ground', \n",
    "              data= bird1);\n",
    "plt.xlabel('Miles from Airport');\n",
    "plt.ylabel('Feet above Ground');\n",
    "plt.title('Flight Altitude over Airplane-Airport Distance among All Strikes');"
   ]
  },
  {
   "cell_type": "code",
   "execution_count": 63,
   "metadata": {},
   "outputs": [
    {
     "data": {
      "image/png": "[encoded data removed]",
      "text/plain": [
       "<matplotlib.figure.Figure at 0x7fe5182e8e80>"
      ]
     },
     "metadata": {},
     "output_type": "display_data"
    }
   ],
   "source": [
    "#.loc : Purely label-location based indexer for selection by label.\n",
    "\n",
    "bird10 = bird_dmg.loc[(~bird_dmg['Miles from airport'].isnull()) &\n",
    "                        (~bird_dmg['Feet above ground'].isnull()) ]\n",
    "plt.scatter(x='Miles from airport', y='Feet above ground', \n",
    "              data= bird10);\n",
    "plt.xlabel('Miles from Airport');\n",
    "plt.ylabel('Feet above Ground');\n",
    "plt.title('Flight Altitude over Airplane-Airport Distance among Damaging Strikes');"
   ]
  },
  {
   "cell_type": "markdown",
   "metadata": {},
   "source": [
    "# Histogram plot"
   ]
  },
  {
   "cell_type": "code",
   "execution_count": 64,
   "metadata": {},
   "outputs": [
    {
     "data": {
      "image/png": "[encoded data removed]",
      "text/plain": [
       "<matplotlib.figure.Figure at 0x7fe5186d7630>"
      ]
     },
     "metadata": {},
     "output_type": "display_data"
    }
   ],
   "source": [
    "# histogram of speed\n",
    "# the current record of airplane is 6082.834 knots, any entry higher than that is set as NA\n",
    "bird.loc[bird['Speed (IAS) in knots'] > 6100,'Speed (IAS) in knots'] = np.nan\n",
    "speed = sns.distplot(bird['Speed (IAS) in knots'].dropna(),kde=False);\n",
    "speed.set(xlabel='Speed in Knots', ylabel='Counts - All Strikes');\n",
    "speed.set_title('The Frequency of All Strikes over Flight Speed');\n"
   ]
  },
  {
   "cell_type": "code",
   "execution_count": 65,
   "metadata": {},
   "outputs": [
    {
     "data": {
      "image/png": "[encoded data removed]",
      "text/plain": [
       "<matplotlib.figure.Figure at 0x7fe518401080>"
      ]
     },
     "metadata": {},
     "output_type": "display_data"
    }
   ],
   "source": [
    "# histogram of speed\n",
    "speed0 = sns.distplot(bird_dmg['Speed (IAS) in knots'].dropna(),kde=False);\n",
    "speed0.set(xlabel='Speed in Knots', ylabel='Counts - Damaging Strikes');\n",
    "speed.set_title('The Frequency of Damaging Strikes over Flight Speed ');"
   ]
  },
  {
   "cell_type": "code",
   "execution_count": 66,
   "metadata": {},
   "outputs": [
    {
     "data": {
      "text/html": [
       "<div>\n",
       "<style>\n",
       "    .dataframe thead tr:only-child th {\n",
       "        text-align: right;\n",
       "    }\n",
       "\n",
       "    .dataframe thead th {\n",
       "        text-align: left;\n",
       "    }\n",
       "\n",
       "    .dataframe tbody tr th {\n",
       "        vertical-align: top;\n",
       "    }\n",
       "</style>\n",
       "<table border=\"1\" class=\"dataframe\">\n",
       "  <thead>\n",
       "    <tr style=\"text-align: right;\">\n",
       "      <th></th>\n",
       "      <th>Airport: Name</th>\n",
       "      <th>count</th>\n",
       "    </tr>\n",
       "  </thead>\n",
       "  <tbody>\n",
       "    <tr>\n",
       "      <th>1336</th>\n",
       "      <td>UNKNOWN</td>\n",
       "      <td>5989</td>\n",
       "    </tr>\n",
       "    <tr>\n",
       "      <th>312</th>\n",
       "      <td>DENVER INTL AIRPORT</td>\n",
       "      <td>2351</td>\n",
       "    </tr>\n",
       "    <tr>\n",
       "      <th>285</th>\n",
       "      <td>DALLAS/FORT WORTH INTL ARPT</td>\n",
       "      <td>1819</td>\n",
       "    </tr>\n",
       "    <tr>\n",
       "      <th>825</th>\n",
       "      <td>MEMPHIS INTL</td>\n",
       "      <td>1234</td>\n",
       "    </tr>\n",
       "    <tr>\n",
       "      <th>630</th>\n",
       "      <td>JOHN F KENNEDY INTL</td>\n",
       "      <td>1228</td>\n",
       "    </tr>\n",
       "    <tr>\n",
       "      <th>220</th>\n",
       "      <td>CHICAGO O'HARE INTL ARPT</td>\n",
       "      <td>1124</td>\n",
       "    </tr>\n",
       "    <tr>\n",
       "      <th>1132</th>\n",
       "      <td>SACRAMENTO INTL</td>\n",
       "      <td>1041</td>\n",
       "    </tr>\n",
       "    <tr>\n",
       "      <th>758</th>\n",
       "      <td>LOUISVILLE INTL ARPT</td>\n",
       "      <td>964</td>\n",
       "    </tr>\n",
       "    <tr>\n",
       "      <th>1138</th>\n",
       "      <td>SALT LAKE CITY INTL</td>\n",
       "      <td>849</td>\n",
       "    </tr>\n",
       "    <tr>\n",
       "      <th>647</th>\n",
       "      <td>KANSAS CITY INTL</td>\n",
       "      <td>846</td>\n",
       "    </tr>\n",
       "  </tbody>\n",
       "</table>\n",
       "</div>"
      ],
      "text/plain": [
       "                    Airport: Name  count\n",
       "1336                      UNKNOWN   5989\n",
       "312           DENVER INTL AIRPORT   2351\n",
       "285   DALLAS/FORT WORTH INTL ARPT   1819\n",
       "825                  MEMPHIS INTL   1234\n",
       "630           JOHN F KENNEDY INTL   1228\n",
       "220      CHICAGO O'HARE INTL ARPT   1124\n",
       "1132              SACRAMENTO INTL   1041\n",
       "758          LOUISVILLE INTL ARPT    964\n",
       "1138          SALT LAKE CITY INTL    849\n",
       "647              KANSAS CITY INTL    846"
      ]
     },
     "execution_count": 66,
     "metadata": {},
     "output_type": "execute_result"
    }
   ],
   "source": [
    "# top 10 airports among all strikes\n",
    "df_location = pd.DataFrame({'count' : bird.groupby( ['Airport: Name'] ).size()}).reset_index()\n",
    "df_location.sort_values(['count'], ascending=False).head(10)"
   ]
  },
  {
   "cell_type": "code",
   "execution_count": 67,
   "metadata": {},
   "outputs": [
    {
     "data": {
      "text/html": [
       "<div>\n",
       "<style>\n",
       "    .dataframe thead tr:only-child th {\n",
       "        text-align: right;\n",
       "    }\n",
       "\n",
       "    .dataframe thead th {\n",
       "        text-align: left;\n",
       "    }\n",
       "\n",
       "    .dataframe tbody tr th {\n",
       "        vertical-align: top;\n",
       "    }\n",
       "</style>\n",
       "<table border=\"1\" class=\"dataframe\">\n",
       "  <thead>\n",
       "    <tr style=\"text-align: right;\">\n",
       "      <th></th>\n",
       "      <th>Airport: Name</th>\n",
       "      <th>count</th>\n",
       "    </tr>\n",
       "  </thead>\n",
       "  <tbody>\n",
       "    <tr>\n",
       "      <th>842</th>\n",
       "      <td>UNKNOWN</td>\n",
       "      <td>871</td>\n",
       "    </tr>\n",
       "    <tr>\n",
       "      <th>712</th>\n",
       "      <td>SACRAMENTO INTL</td>\n",
       "      <td>120</td>\n",
       "    </tr>\n",
       "    <tr>\n",
       "      <th>610</th>\n",
       "      <td>ORLANDO INTL</td>\n",
       "      <td>88</td>\n",
       "    </tr>\n",
       "    <tr>\n",
       "      <th>716</th>\n",
       "      <td>SALT LAKE CITY INTL</td>\n",
       "      <td>83</td>\n",
       "    </tr>\n",
       "    <tr>\n",
       "      <th>383</th>\n",
       "      <td>JOHN F KENNEDY INTL</td>\n",
       "      <td>80</td>\n",
       "    </tr>\n",
       "    <tr>\n",
       "      <th>512</th>\n",
       "      <td>MEMPHIS INTL</td>\n",
       "      <td>79</td>\n",
       "    </tr>\n",
       "    <tr>\n",
       "      <th>202</th>\n",
       "      <td>DENVER INTL AIRPORT</td>\n",
       "      <td>79</td>\n",
       "    </tr>\n",
       "    <tr>\n",
       "      <th>139</th>\n",
       "      <td>CHICAGO O'HARE INTL ARPT</td>\n",
       "      <td>72</td>\n",
       "    </tr>\n",
       "    <tr>\n",
       "      <th>184</th>\n",
       "      <td>DALLAS/FORT WORTH INTL ARPT</td>\n",
       "      <td>51</td>\n",
       "    </tr>\n",
       "    <tr>\n",
       "      <th>721</th>\n",
       "      <td>SAN FRANCISCO INTL ARPT</td>\n",
       "      <td>47</td>\n",
       "    </tr>\n",
       "  </tbody>\n",
       "</table>\n",
       "</div>"
      ],
      "text/plain": [
       "                   Airport: Name  count\n",
       "842                      UNKNOWN    871\n",
       "712              SACRAMENTO INTL    120\n",
       "610                 ORLANDO INTL     88\n",
       "716          SALT LAKE CITY INTL     83\n",
       "383          JOHN F KENNEDY INTL     80\n",
       "512                 MEMPHIS INTL     79\n",
       "202          DENVER INTL AIRPORT     79\n",
       "139     CHICAGO O'HARE INTL ARPT     72\n",
       "184  DALLAS/FORT WORTH INTL ARPT     51\n",
       "721      SAN FRANCISCO INTL ARPT     47"
      ]
     },
     "execution_count": 67,
     "metadata": {},
     "output_type": "execute_result"
    }
   ],
   "source": [
    "# top 10 airports among all damaging strikes\n",
    "df_airport0 = pd.DataFrame({'count' : bird_dmg.groupby( ['Airport: Name'] ).size()}).reset_index()\n",
    "df_airport0.sort_values(['count'], ascending=False).head(10)"
   ]
  },
  {
   "cell_type": "code",
   "execution_count": 68,
   "metadata": {
    "collapsed": true
   },
   "outputs": [],
   "source": [
    "#Time of strike\n",
    "\n",
    "\n",
    "# month variable\n",
    "bird['Flight Month'] = pd.DatetimeIndex(bird['FlightDate']).month\n",
    "# year variable\n",
    "bird['Flight Year'] = pd.DatetimeIndex(bird['FlightDate']).year\n",
    "\n",
    "# subset the data with any damage or negative impact to the flight\n",
    "bird_dmg = bird.loc[(bird['Effect: Indicated Damage'] != 'No damage') | \n",
    "                    (bird['Cost: Total $'] > 0) ]"
   ]
  },
  {
   "cell_type": "markdown",
   "metadata": {},
   "source": [
    "# heatmap of strike frequency vs year/month"
   ]
  },
  {
   "cell_type": "code",
   "execution_count": 69,
   "metadata": {},
   "outputs": [
    {
     "data": {
      "image/png": "[encoded data removed]",
      "text/plain": [
       "<matplotlib.figure.Figure at 0x7fe515483588>"
      ]
     },
     "metadata": {},
     "output_type": "display_data"
    }
   ],
   "source": [
    "# count over flight month and year\n",
    "count_time = DataFrame({'count' : bird.groupby( ['Flight Month', 'Flight Year'] ).size()}).reset_index()\n",
    "# reshape frame\n",
    "count_time_p=count_time.pivot(\"Flight Month\", \"Flight Year\", \"count\")\n",
    "# plot the frequency over month and year in a heat map\n",
    "plt.figure(figsize=(8, 7))\n",
    "heat_time = sns.heatmap(count_time_p);\n",
    "heat_time.set_title('The Frequency of All Strikes Over Flight Year and Month');"
   ]
  },
  {
   "cell_type": "code",
   "execution_count": 70,
   "metadata": {},
   "outputs": [
    {
     "data": {
      "image/png": "[encoded data removed]",
      "text/plain": [
       "<matplotlib.figure.Figure at 0x7fe5153d3160>"
      ]
     },
     "metadata": {},
     "output_type": "display_data"
    }
   ],
   "source": [
    "#for damaging strikes\n",
    "\n",
    "# count over flight month and year\n",
    "count_time0 = DataFrame({'count' : bird_dmg.groupby( ['Flight Month', 'Flight Year'] ).size()}).reset_index()\n",
    "# reshape frame\n",
    "count_time_p0=count_time0.pivot(\"Flight Month\", \"Flight Year\", \"count\")\n",
    "# plot the frequency over month and year in a heat map\n",
    "plt.figure(figsize=(8, 7))\n",
    "heat_time0 = sns.heatmap(count_time_p0);\n",
    "heat_time0.set_title('The Frequency of Damaging Strikes Over Flight Year and Month');\n"
   ]
  },
  {
   "cell_type": "code",
   "execution_count": 71,
   "metadata": {},
   "outputs": [
    {
     "data": {
      "image/png": "[encoded data removed]",
      "text/plain": [
       "<matplotlib.figure.Figure at 0x7fe5153d6630>"
      ]
     },
     "metadata": {},
     "output_type": "display_data"
    }
   ],
   "source": [
    "#frequency of strikes over time of the day\n",
    "\n",
    "# histogram of time information\n",
    "\n",
    "fig_time = sns.distplot(bird['When: Time (HHMM)'].dropna(),kde=False);\n",
    "fig_time.set(ylabel='Counts - All Strikes');\n",
    "fig_time.set_title('The Frequency of All Strikes Over Time of the Day');"
   ]
  },
  {
   "cell_type": "code",
   "execution_count": 72,
   "metadata": {},
   "outputs": [
    {
     "data": {
      "image/png": "[encoded data removed]",
      "text/plain": [
       "<matplotlib.figure.Figure at 0x7fe515475828>"
      ]
     },
     "metadata": {},
     "output_type": "display_data"
    }
   ],
   "source": [
    "#damaging strikes over time of the day(HHMM format)\n",
    "\n",
    "# histogram of time information\n",
    "fig_time0 = sns.distplot(bird_dmg['When: Time (HHMM)'].dropna(),kde=False);\n",
    "fig_time0.set(ylabel='Counts - Damaging Strikes');\n",
    "fig_time.set_title('The Frequency of Damaging Strikes Over Time of the Day');"
   ]
  },
  {
   "cell_type": "markdown",
   "metadata": {},
   "source": [
    "# Consequences"
   ]
  },
  {
   "cell_type": "code",
   "execution_count": 73,
   "metadata": {},
   "outputs": [
    {
     "data": {
      "image/png": "[encoded data removed]",
      "text/plain": [
       "<matplotlib.figure.Figure at 0x7fe5182c82b0>"
      ]
     },
     "metadata": {},
     "output_type": "display_data"
    }
   ],
   "source": [
    "# cost histogram\n",
    "cost = sns.distplot(np.log10(bird.loc[bird['Cost: Total $']>0,'Cost: Total $']),kde=False);\n",
    "cost.set(xlabel='Log 10 of Total Cost in Dollar', ylabel='Counts - All Strikes');\n",
    "cost.set_title('The Frequency of All Strikes Over Log Cost');"
   ]
  },
  {
   "cell_type": "code",
   "execution_count": 74,
   "metadata": {},
   "outputs": [
    {
     "data": {
      "image/png": "[encoded data removed]",
      "text/plain": [
       "<matplotlib.figure.Figure at 0x7fe515440748>"
      ]
     },
     "metadata": {},
     "output_type": "display_data"
    }
   ],
   "source": [
    "#damaging strikes\n",
    "#cost histogram\n",
    "cost0 = sns.distplot(np.log10(bird_dmg.loc[bird_dmg['Cost: Total $']>0,'Cost: Total $']),kde=False);\n",
    "cost0.set(xlabel='Log 10 of Total Cost in Dollar', ylabel='Counts - Damaging Strikes');\n",
    "cost0.set_title('The Frequency of Damaging Strikes Over Log Cost');"
   ]
  },
  {
   "cell_type": "code",
   "execution_count": 75,
   "metadata": {},
   "outputs": [
    {
     "data": {
      "text/html": [
       "<div>\n",
       "<style>\n",
       "    .dataframe thead tr:only-child th {\n",
       "        text-align: right;\n",
       "    }\n",
       "\n",
       "    .dataframe thead th {\n",
       "        text-align: left;\n",
       "    }\n",
       "\n",
       "    .dataframe tbody tr th {\n",
       "        vertical-align: top;\n",
       "    }\n",
       "</style>\n",
       "<table border=\"1\" class=\"dataframe\">\n",
       "  <thead>\n",
       "    <tr style=\"text-align: right;\">\n",
       "      <th></th>\n",
       "      <th>Effect: Indicated Damage</th>\n",
       "      <th>count</th>\n",
       "    </tr>\n",
       "  </thead>\n",
       "  <tbody>\n",
       "    <tr>\n",
       "      <th>0</th>\n",
       "      <td>Caused damage</td>\n",
       "      <td>4075</td>\n",
       "    </tr>\n",
       "    <tr>\n",
       "      <th>1</th>\n",
       "      <td>No damage</td>\n",
       "      <td>61535</td>\n",
       "    </tr>\n",
       "  </tbody>\n",
       "</table>\n",
       "</div>"
      ],
      "text/plain": [
       "  Effect: Indicated Damage  count\n",
       "0            Caused damage   4075\n",
       "1                No damage  61535"
      ]
     },
     "execution_count": 75,
     "metadata": {},
     "output_type": "execute_result"
    }
   ],
   "source": [
    "# damage count table(damage vs no damage)\n",
    "DataFrame({'count' : bird.groupby( ['Effect: Indicated Damage'] ).size()}).reset_index()"
   ]
  },
  {
   "cell_type": "markdown",
   "metadata": {},
   "source": [
    "# Inferential statistics\n",
    "\n",
    "damaged/not damaged strikes are classified using five models:\n",
    "lr,knn,gnb,svm,rf"
   ]
  },
  {
   "cell_type": "markdown",
   "metadata": {},
   "source": [
    "# Resample data"
   ]
  },
  {
   "cell_type": "code",
   "execution_count": 76,
   "metadata": {
    "collapsed": true
   },
   "outputs": [],
   "source": [
    "# add damage index\n",
    "bird['Damage'] = 0\n",
    "bird.loc[(bird['Effect: Indicated Damage'] != 'No damage') | \n",
    "                    (bird['Cost: Total $'] > 0) ,'Damage'] = 1\n",
    "\n",
    "# define independent and dependent variables\n",
    "X = ['Aircraft: Number of engines?',\n",
    "     'Wildlife: Size',\n",
    "     'When: Phase of flight','Feet above ground','Miles from airport','Speed (IAS) in knots',\n",
    "     'Flight Month','Flight Year','When: Time (HHMM)',\n",
    "     'Pilot warned of birds or wildlife?']\n",
    "Y = ['Damage']\n",
    "\n",
    "# clean missing data, keep those with values on key metrics\n",
    "bird_keep = bird[np.concatenate((X,Y))].dropna(how='any')\n"
   ]
  },
  {
   "cell_type": "code",
   "execution_count": 77,
   "metadata": {
    "collapsed": true
   },
   "outputs": [],
   "source": [
    "# list of damage indices\n",
    "damage_index = np.array(bird_keep[bird_keep[\"Damage\"]==1].index)\n",
    "\n",
    "# getting the list of normal indices from the full dataset\n",
    "normal_index = bird_keep[bird_keep[\"Damage\"]==0].index\n",
    "\n",
    "No_of_damage = len(bird_keep[bird_keep[\"Damage\"]==1])\n",
    "\n",
    "# choosing random normal indices equal to the number of damaging strikes\n",
    "normal_indices = np.array( np.random.choice(normal_index, No_of_damage, replace= False) )\n",
    "\n",
    "# concatenate damaging index and normal index to create a list of indices\n",
    "undersampled_indices = np.concatenate([damage_index, normal_indices])\n",
    "\n",
    "# define training and testing sets\n",
    "# choosing random indices equal to the number of damaging strikes\n",
    "train_indices = np.array( np.random.choice(undersampled_indices, No_of_damage, replace= False) )\n",
    "test_indices = np.array([item for item in undersampled_indices if item not in train_indices])"
   ]
  },
  {
   "cell_type": "code",
   "execution_count": 78,
   "metadata": {
    "collapsed": true
   },
   "outputs": [],
   "source": [
    "# add dummy variables for categorical variables\n",
    "wildlife_dummies = pd.get_dummies(bird_keep['Wildlife: Size'])\n",
    "bird_keep = bird_keep.join(wildlife_dummies)\n",
    "\n",
    "phase_dummies = pd.get_dummies(bird_keep['When: Phase of flight'])\n",
    "bird_keep = bird_keep.join(phase_dummies)\n",
    "\n",
    "warn_dummies = pd.get_dummies(bird_keep['Pilot warned of birds or wildlife?'])\n",
    "bird_keep = bird_keep.join(warn_dummies)\n",
    "\n",
    "#  convert engine number to numeric\n",
    "bird_keep['Aircraft: Number of engines?'] = pd.to_numeric(bird_keep['Aircraft: Number of engines?'])\n",
    "\n",
    "# scale variables before fitting our model to our dataset\n",
    "# flight year scaled by subtracting the minimum year\n",
    "bird_keep[\"Flight Year\"] = bird_keep[\"Flight Year\"] - min(bird_keep[\"Flight Year\"])\n",
    "# scale time by dividing 100 and center to the noon\n",
    "bird_keep[\"When: Time (HHMM)\"] = bird_keep[\"When: Time (HHMM)\"]/100-12\n",
    "# scale speed\n",
    "bird_keep[\"Speed (IAS) in knots\"] = scale( bird_keep[\"Speed (IAS) in knots\"], axis=0, with_mean=True, with_std=True, copy=False )\n"
   ]
  },
  {
   "cell_type": "code",
   "execution_count": 79,
   "metadata": {
    "collapsed": true
   },
   "outputs": [],
   "source": [
    "# use the undersampled indices to build the undersampled_data dataframe\n",
    "undersampled_bird = bird_keep.loc[undersampled_indices, :]\n",
    "\n",
    "# drop original values after dummy variables added\n",
    "bird_use = undersampled_bird.drop(['Wildlife: Size','When: Phase of flight',\n",
    "     'Pilot warned of birds or wildlife?'],axis=1)"
   ]
  },
  {
   "cell_type": "markdown",
   "metadata": {},
   "source": [
    "# Separating to train and test sets"
   ]
  },
  {
   "cell_type": "code",
   "execution_count": 80,
   "metadata": {},
   "outputs": [
    {
     "data": {
      "text/html": [
       "<div>\n",
       "<style>\n",
       "    .dataframe thead tr:only-child th {\n",
       "        text-align: right;\n",
       "    }\n",
       "\n",
       "    .dataframe thead th {\n",
       "        text-align: left;\n",
       "    }\n",
       "\n",
       "    .dataframe tbody tr th {\n",
       "        vertical-align: top;\n",
       "    }\n",
       "</style>\n",
       "<table border=\"1\" class=\"dataframe\">\n",
       "  <thead>\n",
       "    <tr style=\"text-align: right;\">\n",
       "      <th></th>\n",
       "      <th>Aircraft: Number of engines?</th>\n",
       "      <th>Feet above ground</th>\n",
       "      <th>Miles from airport</th>\n",
       "      <th>Speed (IAS) in knots</th>\n",
       "      <th>Flight Month</th>\n",
       "      <th>Flight Year</th>\n",
       "      <th>When: Time (HHMM)</th>\n",
       "      <th>Large</th>\n",
       "      <th>Medium</th>\n",
       "      <th>Small</th>\n",
       "      <th>Approach</th>\n",
       "      <th>Climb</th>\n",
       "      <th>Descent</th>\n",
       "      <th>En Route</th>\n",
       "      <th>Landing Roll</th>\n",
       "      <th>Parked</th>\n",
       "      <th>Take-off run</th>\n",
       "      <th>Taxi</th>\n",
       "      <th>N</th>\n",
       "      <th>Y</th>\n",
       "    </tr>\n",
       "  </thead>\n",
       "  <tbody>\n",
       "    <tr>\n",
       "      <th>258</th>\n",
       "      <td>2</td>\n",
       "      <td>0.0</td>\n",
       "      <td>0.0</td>\n",
       "      <td>-2.626145</td>\n",
       "      <td>1</td>\n",
       "      <td>0</td>\n",
       "      <td>6.30</td>\n",
       "      <td>1</td>\n",
       "      <td>0</td>\n",
       "      <td>0</td>\n",
       "      <td>0</td>\n",
       "      <td>0</td>\n",
       "      <td>0</td>\n",
       "      <td>0</td>\n",
       "      <td>1</td>\n",
       "      <td>0</td>\n",
       "      <td>0</td>\n",
       "      <td>0</td>\n",
       "      <td>1</td>\n",
       "      <td>0</td>\n",
       "    </tr>\n",
       "    <tr>\n",
       "      <th>643</th>\n",
       "      <td>1</td>\n",
       "      <td>0.0</td>\n",
       "      <td>0.0</td>\n",
       "      <td>-1.696239</td>\n",
       "      <td>3</td>\n",
       "      <td>0</td>\n",
       "      <td>-1.80</td>\n",
       "      <td>1</td>\n",
       "      <td>0</td>\n",
       "      <td>0</td>\n",
       "      <td>0</td>\n",
       "      <td>0</td>\n",
       "      <td>0</td>\n",
       "      <td>0</td>\n",
       "      <td>0</td>\n",
       "      <td>0</td>\n",
       "      <td>1</td>\n",
       "      <td>0</td>\n",
       "      <td>0</td>\n",
       "      <td>1</td>\n",
       "    </tr>\n",
       "    <tr>\n",
       "      <th>908</th>\n",
       "      <td>2</td>\n",
       "      <td>0.0</td>\n",
       "      <td>0.0</td>\n",
       "      <td>-1.231285</td>\n",
       "      <td>3</td>\n",
       "      <td>0</td>\n",
       "      <td>11.00</td>\n",
       "      <td>1</td>\n",
       "      <td>0</td>\n",
       "      <td>0</td>\n",
       "      <td>0</td>\n",
       "      <td>0</td>\n",
       "      <td>0</td>\n",
       "      <td>0</td>\n",
       "      <td>1</td>\n",
       "      <td>0</td>\n",
       "      <td>0</td>\n",
       "      <td>0</td>\n",
       "      <td>1</td>\n",
       "      <td>0</td>\n",
       "    </tr>\n",
       "    <tr>\n",
       "      <th>1241</th>\n",
       "      <td>2</td>\n",
       "      <td>0.0</td>\n",
       "      <td>0.0</td>\n",
       "      <td>-1.231285</td>\n",
       "      <td>4</td>\n",
       "      <td>0</td>\n",
       "      <td>8.37</td>\n",
       "      <td>1</td>\n",
       "      <td>0</td>\n",
       "      <td>0</td>\n",
       "      <td>0</td>\n",
       "      <td>0</td>\n",
       "      <td>0</td>\n",
       "      <td>0</td>\n",
       "      <td>1</td>\n",
       "      <td>0</td>\n",
       "      <td>0</td>\n",
       "      <td>0</td>\n",
       "      <td>1</td>\n",
       "      <td>0</td>\n",
       "    </tr>\n",
       "    <tr>\n",
       "      <th>1764</th>\n",
       "      <td>2</td>\n",
       "      <td>0.0</td>\n",
       "      <td>0.0</td>\n",
       "      <td>0.163575</td>\n",
       "      <td>5</td>\n",
       "      <td>0</td>\n",
       "      <td>8.12</td>\n",
       "      <td>0</td>\n",
       "      <td>1</td>\n",
       "      <td>0</td>\n",
       "      <td>0</td>\n",
       "      <td>0</td>\n",
       "      <td>0</td>\n",
       "      <td>0</td>\n",
       "      <td>0</td>\n",
       "      <td>0</td>\n",
       "      <td>1</td>\n",
       "      <td>0</td>\n",
       "      <td>1</td>\n",
       "      <td>0</td>\n",
       "    </tr>\n",
       "  </tbody>\n",
       "</table>\n",
       "</div>"
      ],
      "text/plain": [
       "      Aircraft: Number of engines?  Feet above ground  Miles from airport  \\\n",
       "258                              2                0.0                 0.0   \n",
       "643                              1                0.0                 0.0   \n",
       "908                              2                0.0                 0.0   \n",
       "1241                             2                0.0                 0.0   \n",
       "1764                             2                0.0                 0.0   \n",
       "\n",
       "      Speed (IAS) in knots  Flight Month  Flight Year  When: Time (HHMM)  \\\n",
       "258              -2.626145             1            0               6.30   \n",
       "643              -1.696239             3            0              -1.80   \n",
       "908              -1.231285             3            0              11.00   \n",
       "1241             -1.231285             4            0               8.37   \n",
       "1764              0.163575             5            0               8.12   \n",
       "\n",
       "      Large  Medium  Small  Approach  Climb  Descent  En Route  Landing Roll  \\\n",
       "258       1       0      0         0      0        0         0             1   \n",
       "643       1       0      0         0      0        0         0             0   \n",
       "908       1       0      0         0      0        0         0             1   \n",
       "1241      1       0      0         0      0        0         0             1   \n",
       "1764      0       1      0         0      0        0         0             0   \n",
       "\n",
       "      Parked  Take-off run  Taxi  N  Y  \n",
       "258        0             0     0  1  0  \n",
       "643        0             1     0  0  1  \n",
       "908        0             0     0  1  0  \n",
       "1241       0             0     0  1  0  \n",
       "1764       0             1     0  1  0  "
      ]
     },
     "execution_count": 80,
     "metadata": {},
     "output_type": "execute_result"
    }
   ],
   "source": [
    "# define training and testing sets\n",
    "# choosing random indices equal to the number of damaging strikes\n",
    "X_train = bird_use.drop(\"Damage\",axis=1).loc[train_indices,]\n",
    "Y_train = bird_use.loc[train_indices,'Damage']\n",
    "X_test = bird_use.drop(\"Damage\",axis=1).loc[test_indices,]\n",
    "Y_test = bird_use.loc[test_indices,'Damage']\n",
    "X_test.head()"
   ]
  },
  {
   "cell_type": "markdown",
   "metadata": {},
   "source": [
    "# logistic regression"
   ]
  },
  {
   "cell_type": "code",
   "execution_count": 81,
   "metadata": {},
   "outputs": [
    {
     "name": "stdout",
     "output_type": "stream",
     "text": [
      "Training Accuracy:\n"
     ]
    },
    {
     "data": {
      "text/plain": [
       "0.69704142011834325"
      ]
     },
     "execution_count": 81,
     "metadata": {},
     "output_type": "execute_result"
    }
   ],
   "source": [
    "# Logistic Regression\n",
    "logreg = LogisticRegression()\n",
    "logreg.fit(X_train, Y_train)\n",
    "Y_pred = logreg.predict(X_test)\n",
    "print('Training Accuracy:')\n",
    "logreg.score(X_train, Y_train)"
   ]
  },
  {
   "cell_type": "code",
   "execution_count": 82,
   "metadata": {},
   "outputs": [
    {
     "name": "stdout",
     "output_type": "stream",
     "text": [
      "Testing Accuracy:\n"
     ]
    },
    {
     "data": {
      "text/plain": [
       "0.69704142011834325"
      ]
     },
     "execution_count": 82,
     "metadata": {},
     "output_type": "execute_result"
    }
   ],
   "source": [
    "# generate evaluation metrics\n",
    "logreg_t = metrics.accuracy_score(Y_test, Y_pred)\n",
    "print('Testing Accuracy:')\n",
    "logreg_t"
   ]
  },
  {
   "cell_type": "code",
   "execution_count": 83,
   "metadata": {},
   "outputs": [
    {
     "name": "stdout",
     "output_type": "stream",
     "text": [
      "Cross-Validation Accuracy:\n",
      "0.687498860009\n"
     ]
    }
   ],
   "source": [
    "# evaluate the model using 10-fold cross-validation\n",
    "scores_lr = cross_val_score(logreg, X_train, Y_train, scoring='accuracy', cv=10)\n",
    "print('Cross-Validation Accuracy:')\n",
    "print (scores_lr.mean())\n"
   ]
  },
  {
   "cell_type": "markdown",
   "metadata": {},
   "source": [
    "# Support Vector Machine"
   ]
  },
  {
   "cell_type": "code",
   "execution_count": 84,
   "metadata": {},
   "outputs": [
    {
     "name": "stdout",
     "output_type": "stream",
     "text": [
      "Training Accuracy:\n"
     ]
    },
    {
     "data": {
      "text/plain": [
       "0.85088757396449699"
      ]
     },
     "execution_count": 84,
     "metadata": {},
     "output_type": "execute_result"
    }
   ],
   "source": [
    "# Support Vector Machines\n",
    "svc = SVC()\n",
    "svc.fit(X_train, Y_train)\n",
    "Y_pred = svc.predict(X_test)\n",
    "print('Training Accuracy:')\n",
    "svc.score(X_train, Y_train)\n"
   ]
  },
  {
   "cell_type": "code",
   "execution_count": 85,
   "metadata": {},
   "outputs": [
    {
     "name": "stdout",
     "output_type": "stream",
     "text": [
      "Testing Accuracy:\n"
     ]
    },
    {
     "data": {
      "text/plain": [
       "0.59644970414201182"
      ]
     },
     "execution_count": 85,
     "metadata": {},
     "output_type": "execute_result"
    }
   ],
   "source": [
    "# generate evaluation metrics\n",
    "svc_t = metrics.accuracy_score(Y_test, Y_pred)\n",
    "print('Testing Accuracy:')\n",
    "svc_t"
   ]
  },
  {
   "cell_type": "code",
   "execution_count": 86,
   "metadata": {},
   "outputs": [
    {
     "name": "stdout",
     "output_type": "stream",
     "text": [
      "Cross-Validation Accuracy:\n",
      "0.601179727705\n"
     ]
    }
   ],
   "source": [
    "# evaluate the model using 10-fold cross-validation\n",
    "scores_svc = cross_val_score(svc, X_train, Y_train, scoring='accuracy', cv=10)\n",
    "print('Cross-Validation Accuracy:')\n",
    "print (scores_svc.mean())"
   ]
  },
  {
   "cell_type": "markdown",
   "metadata": {},
   "source": [
    "# Random forest"
   ]
  },
  {
   "cell_type": "code",
   "execution_count": 87,
   "metadata": {},
   "outputs": [
    {
     "name": "stdout",
     "output_type": "stream",
     "text": [
      "Training Accuracy:\n"
     ]
    },
    {
     "data": {
      "text/plain": [
       "1.0"
      ]
     },
     "execution_count": 87,
     "metadata": {},
     "output_type": "execute_result"
    }
   ],
   "source": [
    "# Random Forests\n",
    "rf = RandomForestClassifier(n_estimators=100)\n",
    "rf.fit(X_train, Y_train)\n",
    "Y_pred = rf.predict(X_test)\n",
    "print('Training Accuracy:')\n",
    "rf.score(X_train, Y_train)"
   ]
  },
  {
   "cell_type": "code",
   "execution_count": 88,
   "metadata": {},
   "outputs": [
    {
     "name": "stdout",
     "output_type": "stream",
     "text": [
      "Testing Accuracy:\n"
     ]
    },
    {
     "data": {
      "text/plain": [
       "0.67810650887573964"
      ]
     },
     "execution_count": 88,
     "metadata": {},
     "output_type": "execute_result"
    }
   ],
   "source": [
    "# generate evaluation metrics\n",
    "rf_t = metrics.accuracy_score(Y_test, Y_pred)\n",
    "print('Testing Accuracy:')\n",
    "rf_t"
   ]
  },
  {
   "cell_type": "code",
   "execution_count": 89,
   "metadata": {},
   "outputs": [
    {
     "name": "stdout",
     "output_type": "stream",
     "text": [
      "Cross-Validation Accuracy:\n",
      "0.664962868868\n"
     ]
    }
   ],
   "source": [
    "# evaluate the model using 10-fold cross-validation\n",
    "scores_rf = cross_val_score(rf, X_train, Y_train, scoring='accuracy', cv=10)\n",
    "print('Cross-Validation Accuracy:')\n",
    "print (scores_rf.mean())"
   ]
  },
  {
   "cell_type": "markdown",
   "metadata": {},
   "source": [
    "# K Nearest Neighbour Classifier"
   ]
  },
  {
   "cell_type": "code",
   "execution_count": 102,
   "metadata": {},
   "outputs": [
    {
     "name": "stdout",
     "output_type": "stream",
     "text": [
      "Training Accuracy:\n"
     ]
    },
    {
     "data": {
      "text/plain": [
       "0.77869822485207096"
      ]
     },
     "execution_count": 102,
     "metadata": {},
     "output_type": "execute_result"
    }
   ],
   "source": [
    "# KNeighborsClassifier\n",
    "knn = KNeighborsClassifier(n_neighbors = 3)\n",
    "knn.fit(X_train, Y_train)\n",
    "Y_pred = knn.predict(X_test)\n",
    "print('Training Accuracy:')\n",
    "knn.score(X_train, Y_train)\n"
   ]
  },
  {
   "cell_type": "code",
   "execution_count": 103,
   "metadata": {},
   "outputs": [
    {
     "name": "stdout",
     "output_type": "stream",
     "text": [
      "Testing Accuracy:\n"
     ]
    },
    {
     "data": {
      "text/plain": [
       "0.55502958579881656"
      ]
     },
     "execution_count": 103,
     "metadata": {},
     "output_type": "execute_result"
    }
   ],
   "source": [
    "# generate evaluation metrics\n",
    "knn_t = metrics.accuracy_score(Y_test, Y_pred)\n",
    "print('Testing Accuracy:')\n",
    "knn_t"
   ]
  },
  {
   "cell_type": "code",
   "execution_count": 104,
   "metadata": {},
   "outputs": [
    {
     "name": "stdout",
     "output_type": "stream",
     "text": [
      "Cross-Validation Accuracy:\n",
      "0.556288841118\n"
     ]
    }
   ],
   "source": [
    "# evaluate the model using 10-fold cross-validation\n",
    "scores_knn = cross_val_score(knn, X_train, Y_train, scoring='accuracy', cv=10)\n",
    "print('Cross-Validation Accuracy:')\n",
    "print(scores_knn.mean())"
   ]
  },
  {
   "cell_type": "markdown",
   "metadata": {},
   "source": [
    "# Gaussian naive bayes"
   ]
  },
  {
   "cell_type": "code",
   "execution_count": 105,
   "metadata": {},
   "outputs": [
    {
     "name": "stdout",
     "output_type": "stream",
     "text": [
      "Training Accuracy:\n"
     ]
    },
    {
     "data": {
      "text/plain": [
       "0.67810650887573964"
      ]
     },
     "execution_count": 105,
     "metadata": {},
     "output_type": "execute_result"
    }
   ],
   "source": [
    "# Gaussian Naive Bayes\n",
    "gaussian = GaussianNB()\n",
    "gaussian.fit(X_train, Y_train)\n",
    "Y_pred = gaussian.predict(X_test)\n",
    "print('Training Accuracy:')\n",
    "gaussian.score(X_train, Y_train)"
   ]
  },
  {
   "cell_type": "code",
   "execution_count": 106,
   "metadata": {},
   "outputs": [
    {
     "name": "stdout",
     "output_type": "stream",
     "text": [
      "Testing Accuracy:\n"
     ]
    },
    {
     "data": {
      "text/plain": [
       "0.62840236686390527"
      ]
     },
     "execution_count": 106,
     "metadata": {},
     "output_type": "execute_result"
    }
   ],
   "source": [
    "# generate evaluation metrics\n",
    "gaussian_t = metrics.accuracy_score(Y_test, Y_pred)\n",
    "print('Testing Accuracy:')\n",
    "gaussian_t"
   ]
  },
  {
   "cell_type": "code",
   "execution_count": 107,
   "metadata": {},
   "outputs": [
    {
     "name": "stdout",
     "output_type": "stream",
     "text": [
      "Cross-Validation Accuracy:\n",
      "0.666224024494\n"
     ]
    }
   ],
   "source": [
    "# evaluate the model using 10-fold cross-validation\n",
    "scores_gaussian = cross_val_score(gaussian, X_train, Y_train, scoring='accuracy', cv=10)\n",
    "print('Cross-Validation Accuracy:')\n",
    "print (scores_gaussian.mean())\n"
   ]
  },
  {
   "cell_type": "markdown",
   "metadata": {},
   "source": [
    "# Model Summary"
   ]
  },
  {
   "cell_type": "code",
   "execution_count": 108,
   "metadata": {},
   "outputs": [
    {
     "data": {
      "text/html": [
       "<div>\n",
       "<style>\n",
       "    .dataframe thead tr:only-child th {\n",
       "        text-align: right;\n",
       "    }\n",
       "\n",
       "    .dataframe thead th {\n",
       "        text-align: left;\n",
       "    }\n",
       "\n",
       "    .dataframe tbody tr th {\n",
       "        vertical-align: top;\n",
       "    }\n",
       "</style>\n",
       "<table border=\"1\" class=\"dataframe\">\n",
       "  <thead>\n",
       "    <tr style=\"text-align: right;\">\n",
       "      <th></th>\n",
       "      <th>Cross-Validation Accuracy</th>\n",
       "      <th>Testing Accuracy</th>\n",
       "      <th>Training Accuracy</th>\n",
       "    </tr>\n",
       "  </thead>\n",
       "  <tbody>\n",
       "    <tr>\n",
       "      <th>Logistic Regression</th>\n",
       "      <td>0.687499</td>\n",
       "      <td>0.697041</td>\n",
       "      <td>0.697041</td>\n",
       "    </tr>\n",
       "    <tr>\n",
       "      <th>Support Vector Machines</th>\n",
       "      <td>0.601180</td>\n",
       "      <td>0.596450</td>\n",
       "      <td>0.850888</td>\n",
       "    </tr>\n",
       "    <tr>\n",
       "      <th>Random Forests</th>\n",
       "      <td>0.664963</td>\n",
       "      <td>0.678107</td>\n",
       "      <td>1.000000</td>\n",
       "    </tr>\n",
       "    <tr>\n",
       "      <th>K-Nearest Neighbors</th>\n",
       "      <td>0.556289</td>\n",
       "      <td>0.555030</td>\n",
       "      <td>0.778698</td>\n",
       "    </tr>\n",
       "    <tr>\n",
       "      <th>Gaussian Naive Bayes</th>\n",
       "      <td>0.666224</td>\n",
       "      <td>0.628402</td>\n",
       "      <td>0.678107</td>\n",
       "    </tr>\n",
       "  </tbody>\n",
       "</table>\n",
       "</div>"
      ],
      "text/plain": [
       "                          Cross-Validation Accuracy  Testing Accuracy  \\\n",
       "Logistic Regression                        0.687499          0.697041   \n",
       "Support Vector Machines                    0.601180          0.596450   \n",
       "Random Forests                             0.664963          0.678107   \n",
       "K-Nearest Neighbors                        0.556289          0.555030   \n",
       "Gaussian Naive Bayes                       0.666224          0.628402   \n",
       "\n",
       "                          Training Accuracy  \n",
       "Logistic Regression                0.697041  \n",
       "Support Vector Machines            0.850888  \n",
       "Random Forests                     1.000000  \n",
       "K-Nearest Neighbors                0.778698  \n",
       "Gaussian Naive Bayes               0.678107  "
      ]
     },
     "execution_count": 108,
     "metadata": {},
     "output_type": "execute_result"
    }
   ],
   "source": [
    "train_acc = [logreg.score(X_train, Y_train), svc.score(X_train, Y_train), rf.score(X_train, Y_train),\n",
    "             knn.score(X_train, Y_train), gaussian.score(X_train, Y_train)]\n",
    "test_acc = [logreg_t, svc_t, rf_t, knn_t, gaussian_t]\n",
    "cross_val_acc = [scores_lr.mean(), scores_svc.mean(), scores_rf.mean(), scores_knn.mean(), scores_gaussian.mean()]\n",
    "models = DataFrame({'Training Accuracy': train_acc, 'Testing Accuracy': test_acc, \n",
    "                    \"Cross-Validation Accuracy\": cross_val_acc})\n",
    "models.index = ['Logistic Regression','Support Vector Machines ','Random Forests','K-Nearest Neighbors','Gaussian Naive Bayes']\n",
    "models"
   ]
  },
  {
   "cell_type": "code",
   "execution_count": 109,
   "metadata": {},
   "outputs": [
    {
     "data": {
      "image/png": "[encoded data removed]",
      "text/plain": [
       "<matplotlib.figure.Figure at 0x7fe515045780>"
      ]
     },
     "metadata": {},
     "output_type": "display_data"
    }
   ],
   "source": [
    "models1 = DataFrame({'Accuracy' : models.unstack()}).reset_index()\n",
    "# plot accuracies\n",
    "plt.figure(figsize=(8, 7))\n",
    "fig_models = sns.barplot(x='level_0', y='Accuracy', hue='level_1', data=models1);\n",
    "fig_models.set(xlabel='Accuracy Metric', ylabel='Accuracy');\n",
    "fig_models.set_title('The Accuracy of All Models Over Three Metrics');"
   ]
  },
  {
   "cell_type": "markdown",
   "metadata": {},
   "source": [
    "# Correlation coefficients"
   ]
  },
  {
   "cell_type": "code",
   "execution_count": 110,
   "metadata": {},
   "outputs": [
    {
     "data": {
      "text/html": [
       "<div>\n",
       "<style>\n",
       "    .dataframe thead tr:only-child th {\n",
       "        text-align: right;\n",
       "    }\n",
       "\n",
       "    .dataframe thead th {\n",
       "        text-align: left;\n",
       "    }\n",
       "\n",
       "    .dataframe tbody tr th {\n",
       "        vertical-align: top;\n",
       "    }\n",
       "</style>\n",
       "<table border=\"1\" class=\"dataframe\">\n",
       "  <thead>\n",
       "    <tr style=\"text-align: right;\">\n",
       "      <th></th>\n",
       "      <th>0</th>\n",
       "      <th>1</th>\n",
       "    </tr>\n",
       "  </thead>\n",
       "  <tbody>\n",
       "    <tr>\n",
       "      <th>0</th>\n",
       "      <td>Aircraft: Number of engines?</td>\n",
       "      <td>[0.0992227716755]</td>\n",
       "    </tr>\n",
       "    <tr>\n",
       "      <th>1</th>\n",
       "      <td>Feet above ground</td>\n",
       "      <td>[0.00011421440218]</td>\n",
       "    </tr>\n",
       "    <tr>\n",
       "      <th>2</th>\n",
       "      <td>Miles from airport</td>\n",
       "      <td>[-0.0308615637581]</td>\n",
       "    </tr>\n",
       "    <tr>\n",
       "      <th>3</th>\n",
       "      <td>Speed (IAS) in knots</td>\n",
       "      <td>[-0.0765739733385]</td>\n",
       "    </tr>\n",
       "    <tr>\n",
       "      <th>4</th>\n",
       "      <td>Flight Month</td>\n",
       "      <td>[-0.0131481990243]</td>\n",
       "    </tr>\n",
       "  </tbody>\n",
       "</table>\n",
       "</div>"
      ],
      "text/plain": [
       "                              0                   1\n",
       "0  Aircraft: Number of engines?   [0.0992227716755]\n",
       "1             Feet above ground  [0.00011421440218]\n",
       "2            Miles from airport  [-0.0308615637581]\n",
       "3          Speed (IAS) in knots  [-0.0765739733385]\n",
       "4                  Flight Month  [-0.0131481990243]"
      ]
     },
     "execution_count": 110,
     "metadata": {},
     "output_type": "execute_result"
    }
   ],
   "source": [
    "x=zip(X_train.columns, np.transpose(logreg.coef_))\n",
    "x1=pd.DataFrame(list(x))\n",
    "x1.head()"
   ]
  },
  {
   "cell_type": "code",
   "execution_count": 112,
   "metadata": {},
   "outputs": [
    {
     "data": {
      "text/html": [
       "<div>\n",
       "<style>\n",
       "    .dataframe thead tr:only-child th {\n",
       "        text-align: right;\n",
       "    }\n",
       "\n",
       "    .dataframe thead th {\n",
       "        text-align: left;\n",
       "    }\n",
       "\n",
       "    .dataframe tbody tr th {\n",
       "        vertical-align: top;\n",
       "    }\n",
       "</style>\n",
       "<table border=\"1\" class=\"dataframe\">\n",
       "  <thead>\n",
       "    <tr style=\"text-align: right;\">\n",
       "      <th></th>\n",
       "      <th>Features</th>\n",
       "      <th>Coefficient Estimate</th>\n",
       "    </tr>\n",
       "  </thead>\n",
       "  <tbody>\n",
       "    <tr>\n",
       "      <th>7</th>\n",
       "      <td>Large</td>\n",
       "      <td>[1.59848027829]</td>\n",
       "    </tr>\n",
       "    <tr>\n",
       "      <th>9</th>\n",
       "      <td>Small</td>\n",
       "      <td>[-1.10844256171]</td>\n",
       "    </tr>\n",
       "    <tr>\n",
       "      <th>12</th>\n",
       "      <td>Descent</td>\n",
       "      <td>[1.09837667597]</td>\n",
       "    </tr>\n",
       "    <tr>\n",
       "      <th>14</th>\n",
       "      <td>Landing Roll</td>\n",
       "      <td>[-0.572263875291]</td>\n",
       "    </tr>\n",
       "    <tr>\n",
       "      <th>17</th>\n",
       "      <td>Taxi</td>\n",
       "      <td>[-0.402082830577]</td>\n",
       "    </tr>\n",
       "    <tr>\n",
       "      <th>18</th>\n",
       "      <td>N</td>\n",
       "      <td>[0.306750265233]</td>\n",
       "    </tr>\n",
       "    <tr>\n",
       "      <th>13</th>\n",
       "      <td>En Route</td>\n",
       "      <td>[0.269747399594]</td>\n",
       "    </tr>\n",
       "    <tr>\n",
       "      <th>11</th>\n",
       "      <td>Climb</td>\n",
       "      <td>[0.157053897412]</td>\n",
       "    </tr>\n",
       "    <tr>\n",
       "      <th>16</th>\n",
       "      <td>Take-off run</td>\n",
       "      <td>[-0.121710191828]</td>\n",
       "    </tr>\n",
       "    <tr>\n",
       "      <th>8</th>\n",
       "      <td>Medium</td>\n",
       "      <td>[-0.118600457842]</td>\n",
       "    </tr>\n",
       "  </tbody>\n",
       "</table>\n",
       "</div>"
      ],
      "text/plain": [
       "        Features Coefficient Estimate\n",
       "7          Large      [1.59848027829]\n",
       "9          Small     [-1.10844256171]\n",
       "12       Descent      [1.09837667597]\n",
       "14  Landing Roll    [-0.572263875291]\n",
       "17          Taxi    [-0.402082830577]\n",
       "18             N     [0.306750265233]\n",
       "13      En Route     [0.269747399594]\n",
       "11         Climb     [0.157053897412]\n",
       "16  Take-off run    [-0.121710191828]\n",
       "8         Medium    [-0.118600457842]"
      ]
     },
     "execution_count": 112,
     "metadata": {},
     "output_type": "execute_result"
    }
   ],
   "source": [
    "# get Correlation Coefficient for each feature using Logistic Regression\n",
    "logreg_df = pd.DataFrame(list(zip(X_train.columns, np.transpose(logreg.coef_))))\n",
    "logreg_df.columns = ['Features','Coefficient Estimate']\n",
    "logreg_df['sort'] = logreg_df['Coefficient Estimate'].abs()\n",
    "\n",
    "# get top 10 most influential coefficient estimates\n",
    "logreg_df.sort_values(['sort'],ascending=0).drop('sort',axis=1).head(10)"
   ]
  },
  {
   "cell_type": "code",
   "execution_count": null,
   "metadata": {
    "collapsed": true
   },
   "outputs": [],
   "source": []
  }
 ],
 "metadata": {
  "kernelspec": {
   "display_name": "Python 3",
   "language": "python",
   "name": "python3"
  },
  "language_info": {
   "codemirror_mode": {
    "name": "ipython",
    "version": 3
   },
   "file_extension": ".py",
   "mimetype": "text/x-python",
   "name": "python",
   "nbconvert_exporter": "python",
   "pygments_lexer": "ipython3",
   "version": "3.5.2"
  }
 },
 "nbformat": 4,
 "nbformat_minor": 2
}
